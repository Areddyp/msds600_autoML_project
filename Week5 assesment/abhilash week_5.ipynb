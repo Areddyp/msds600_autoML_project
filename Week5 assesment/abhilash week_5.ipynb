{
 "cells": [
  {
   "cell_type": "markdown",
   "id": "6f0c6b14",
   "metadata": {},
   "source": [
    "# DS Automation Assignment"
   ]
  },
  {
   "cell_type": "markdown",
   "id": "6dfd8a9b",
   "metadata": {},
   "source": [
    "Using our prepared churn data from week 2:\n",
    "- use pycaret to find an ML algorithm that performs best on the data\n",
    "    - Choose a metric you think is best to use for finding the best model; by default, it is accuracy but it could be AUC, precision, recall, etc. The week 3 FTE has some information on these different metrics.\n",
    "- save the model to disk\n",
    "- create a Python script/file/module with a function that takes a pandas dataframe as an input and returns the probability of churn for each row in the dataframe\n",
    "    - your Python file/function should print out the predictions for new data (new_churn_data.csv)\n",
    "    - the true values for the new data are [1, 0, 0, 1, 0] if you're interested\n",
    "- test your Python module and function with the new data, new_churn_data.csv\n",
    "- write a short summary of the process and results at the end of this notebook\n",
    "- upload this Jupyter Notebook and Python file to a Github repository, and turn in a link to the repository in the week 5 assignment dropbox\n",
    "\n",
    "*Optional* challenges:\n",
    "- return the probability of churn for each new prediction, and the percentile where that prediction is in the distribution of probability predictions from the training dataset (e.g. a high probability of churn like 0.78 might be at the 90th percentile)\n",
    "- use other autoML packages, such as TPOT, H2O, MLBox, etc, and compare performance and features with pycaret\n",
    "- create a class in your Python module to hold the functions that you created\n",
    "- accept user input to specify a file using a tool such as Python's `input()` function, the `click` package for command-line arguments, or a GUI\n",
    "- Use the unmodified churn data (new_unmodified_churn_data.csv) in your Python script. This will require adding the same preprocessing steps from week 2 since this data is like the original unmodified dataset from week 1."
   ]
  },
  {
   "cell_type": "markdown",
   "id": "f2992b8c",
   "metadata": {},
   "source": [
    "## Load data"
   ]
  },
  {
   "cell_type": "markdown",
   "id": "c22ff9ce",
   "metadata": {},
   "source": [
    "First, we are going to load our same prepared data from week 2 where everything has been converted to numbers. Many autoML packages can handle non-numeric data (they usually convert it to numeric with various methods)."
   ]
  },
  {
   "cell_type": "code",
   "execution_count": 26,
   "id": "39b43423",
   "metadata": {},
   "outputs": [
    {
     "data": {
      "text/html": [
       "<div>\n",
       "<style scoped>\n",
       "    .dataframe tbody tr th:only-of-type {\n",
       "        vertical-align: middle;\n",
       "    }\n",
       "\n",
       "    .dataframe tbody tr th {\n",
       "        vertical-align: top;\n",
       "    }\n",
       "\n",
       "    .dataframe thead th {\n",
       "        text-align: right;\n",
       "    }\n",
       "</style>\n",
       "<table border=\"1\" class=\"dataframe\">\n",
       "  <thead>\n",
       "    <tr style=\"text-align: right;\">\n",
       "      <th></th>\n",
       "      <th>tenure</th>\n",
       "      <th>PhoneService</th>\n",
       "      <th>Contract</th>\n",
       "      <th>PaymentMethod</th>\n",
       "      <th>MonthlyCharges</th>\n",
       "      <th>TotalCharges</th>\n",
       "      <th>Churn</th>\n",
       "    </tr>\n",
       "    <tr>\n",
       "      <th>customerID</th>\n",
       "      <th></th>\n",
       "      <th></th>\n",
       "      <th></th>\n",
       "      <th></th>\n",
       "      <th></th>\n",
       "      <th></th>\n",
       "      <th></th>\n",
       "    </tr>\n",
       "  </thead>\n",
       "  <tbody>\n",
       "    <tr>\n",
       "      <th>7590-VHVEG</th>\n",
       "      <td>1</td>\n",
       "      <td>No</td>\n",
       "      <td>Month-to-month</td>\n",
       "      <td>Electronic check</td>\n",
       "      <td>29.85</td>\n",
       "      <td>29.85</td>\n",
       "      <td>No</td>\n",
       "    </tr>\n",
       "    <tr>\n",
       "      <th>5575-GNVDE</th>\n",
       "      <td>34</td>\n",
       "      <td>Yes</td>\n",
       "      <td>One year</td>\n",
       "      <td>Mailed check</td>\n",
       "      <td>56.95</td>\n",
       "      <td>1889.50</td>\n",
       "      <td>No</td>\n",
       "    </tr>\n",
       "    <tr>\n",
       "      <th>3668-QPYBK</th>\n",
       "      <td>2</td>\n",
       "      <td>Yes</td>\n",
       "      <td>Month-to-month</td>\n",
       "      <td>Mailed check</td>\n",
       "      <td>53.85</td>\n",
       "      <td>108.15</td>\n",
       "      <td>Yes</td>\n",
       "    </tr>\n",
       "    <tr>\n",
       "      <th>7795-CFOCW</th>\n",
       "      <td>45</td>\n",
       "      <td>No</td>\n",
       "      <td>One year</td>\n",
       "      <td>Bank transfer (automatic)</td>\n",
       "      <td>42.30</td>\n",
       "      <td>1840.75</td>\n",
       "      <td>No</td>\n",
       "    </tr>\n",
       "    <tr>\n",
       "      <th>9237-HQITU</th>\n",
       "      <td>2</td>\n",
       "      <td>Yes</td>\n",
       "      <td>Month-to-month</td>\n",
       "      <td>Electronic check</td>\n",
       "      <td>70.70</td>\n",
       "      <td>151.65</td>\n",
       "      <td>Yes</td>\n",
       "    </tr>\n",
       "    <tr>\n",
       "      <th>...</th>\n",
       "      <td>...</td>\n",
       "      <td>...</td>\n",
       "      <td>...</td>\n",
       "      <td>...</td>\n",
       "      <td>...</td>\n",
       "      <td>...</td>\n",
       "      <td>...</td>\n",
       "    </tr>\n",
       "    <tr>\n",
       "      <th>6840-RESVB</th>\n",
       "      <td>24</td>\n",
       "      <td>Yes</td>\n",
       "      <td>One year</td>\n",
       "      <td>Mailed check</td>\n",
       "      <td>84.80</td>\n",
       "      <td>1990.50</td>\n",
       "      <td>No</td>\n",
       "    </tr>\n",
       "    <tr>\n",
       "      <th>2234-XADUH</th>\n",
       "      <td>72</td>\n",
       "      <td>Yes</td>\n",
       "      <td>One year</td>\n",
       "      <td>Credit card (automatic)</td>\n",
       "      <td>103.20</td>\n",
       "      <td>7362.90</td>\n",
       "      <td>No</td>\n",
       "    </tr>\n",
       "    <tr>\n",
       "      <th>4801-JZAZL</th>\n",
       "      <td>11</td>\n",
       "      <td>No</td>\n",
       "      <td>Month-to-month</td>\n",
       "      <td>Electronic check</td>\n",
       "      <td>29.60</td>\n",
       "      <td>346.45</td>\n",
       "      <td>No</td>\n",
       "    </tr>\n",
       "    <tr>\n",
       "      <th>8361-LTMKD</th>\n",
       "      <td>4</td>\n",
       "      <td>Yes</td>\n",
       "      <td>Month-to-month</td>\n",
       "      <td>Mailed check</td>\n",
       "      <td>74.40</td>\n",
       "      <td>306.60</td>\n",
       "      <td>Yes</td>\n",
       "    </tr>\n",
       "    <tr>\n",
       "      <th>3186-AJIEK</th>\n",
       "      <td>66</td>\n",
       "      <td>Yes</td>\n",
       "      <td>Two year</td>\n",
       "      <td>Bank transfer (automatic)</td>\n",
       "      <td>105.65</td>\n",
       "      <td>6844.50</td>\n",
       "      <td>No</td>\n",
       "    </tr>\n",
       "  </tbody>\n",
       "</table>\n",
       "<p>7043 rows × 7 columns</p>\n",
       "</div>"
      ],
      "text/plain": [
       "            tenure PhoneService        Contract              PaymentMethod  \\\n",
       "customerID                                                                   \n",
       "7590-VHVEG       1           No  Month-to-month           Electronic check   \n",
       "5575-GNVDE      34          Yes        One year               Mailed check   \n",
       "3668-QPYBK       2          Yes  Month-to-month               Mailed check   \n",
       "7795-CFOCW      45           No        One year  Bank transfer (automatic)   \n",
       "9237-HQITU       2          Yes  Month-to-month           Electronic check   \n",
       "...            ...          ...             ...                        ...   \n",
       "6840-RESVB      24          Yes        One year               Mailed check   \n",
       "2234-XADUH      72          Yes        One year    Credit card (automatic)   \n",
       "4801-JZAZL      11           No  Month-to-month           Electronic check   \n",
       "8361-LTMKD       4          Yes  Month-to-month               Mailed check   \n",
       "3186-AJIEK      66          Yes        Two year  Bank transfer (automatic)   \n",
       "\n",
       "            MonthlyCharges  TotalCharges Churn  \n",
       "customerID                                      \n",
       "7590-VHVEG           29.85         29.85    No  \n",
       "5575-GNVDE           56.95       1889.50    No  \n",
       "3668-QPYBK           53.85        108.15   Yes  \n",
       "7795-CFOCW           42.30       1840.75    No  \n",
       "9237-HQITU           70.70        151.65   Yes  \n",
       "...                    ...           ...   ...  \n",
       "6840-RESVB           84.80       1990.50    No  \n",
       "2234-XADUH          103.20       7362.90    No  \n",
       "4801-JZAZL           29.60        346.45    No  \n",
       "8361-LTMKD           74.40        306.60   Yes  \n",
       "3186-AJIEK          105.65       6844.50    No  \n",
       "\n",
       "[7043 rows x 7 columns]"
      ]
     },
     "execution_count": 26,
     "metadata": {},
     "output_type": "execute_result"
    }
   ],
   "source": [
    "import pandas as pd\n",
    "\n",
    "df = pd.read_csv(r\"/Users/abhilashreddy/Desktop/weeek 5/churn_data 1.csv\",index_col='customerID' )\n",
    "df "
   ]
  },
  {
   "cell_type": "markdown",
   "id": "a0531f53",
   "metadata": {},
   "source": [
    "# AutoML with pycaret\n",
    "Our next step is to use pycart for autoML. We will need to install the Python package with conda or pip: `pip install pycaret`."
   ]
  },
  {
   "cell_type": "code",
   "execution_count": 2,
   "id": "f622b74d",
   "metadata": {},
   "outputs": [
    {
     "name": "stdout",
     "output_type": "stream",
     "text": [
      "Requirement already satisfied: pycaret in /Users/abhilashreddy/anaconda3/lib/python3.11/site-packages (3.2.0)\n",
      "Requirement already satisfied: category-encoders>=2.4.0 in /Users/abhilashreddy/anaconda3/lib/python3.11/site-packages (from pycaret) (2.6.3)\n",
      "Requirement already satisfied: cloudpickle in /Users/abhilashreddy/anaconda3/lib/python3.11/site-packages (from pycaret) (2.2.1)\n",
      "Requirement already satisfied: deprecation>=2.1.0 in /Users/abhilashreddy/anaconda3/lib/python3.11/site-packages (from pycaret) (2.1.0)\n",
      "Requirement already satisfied: imbalanced-learn>=0.8.1 in /Users/abhilashreddy/anaconda3/lib/python3.11/site-packages (from pycaret) (0.10.1)\n",
      "Requirement already satisfied: importlib-metadata>=4.12.0 in /Users/abhilashreddy/anaconda3/lib/python3.11/site-packages (from pycaret) (6.0.0)\n",
      "Requirement already satisfied: ipython>=5.5.0 in /Users/abhilashreddy/anaconda3/lib/python3.11/site-packages (from pycaret) (8.15.0)\n",
      "Requirement already satisfied: ipywidgets>=7.6.5 in /Users/abhilashreddy/anaconda3/lib/python3.11/site-packages (from pycaret) (8.0.4)\n",
      "Requirement already satisfied: jinja2>=1.2 in /Users/abhilashreddy/anaconda3/lib/python3.11/site-packages (from pycaret) (3.1.2)\n",
      "Requirement already satisfied: joblib>=1.2.0 in /Users/abhilashreddy/anaconda3/lib/python3.11/site-packages (from pycaret) (1.2.0)\n",
      "Requirement already satisfied: kaleido>=0.2.1 in /Users/abhilashreddy/anaconda3/lib/python3.11/site-packages (from pycaret) (0.2.1)\n",
      "Requirement already satisfied: lightgbm>=3.0.0 in /Users/abhilashreddy/anaconda3/lib/python3.11/site-packages (from pycaret) (4.3.0)\n",
      "Requirement already satisfied: markupsafe>=2.0.1 in /Users/abhilashreddy/anaconda3/lib/python3.11/site-packages (from pycaret) (2.1.1)\n",
      "Requirement already satisfied: matplotlib<=3.6,>=3.3.0 in /Users/abhilashreddy/anaconda3/lib/python3.11/site-packages (from pycaret) (3.6.0)\n",
      "Requirement already satisfied: nbformat>=4.2.0 in /Users/abhilashreddy/anaconda3/lib/python3.11/site-packages (from pycaret) (5.9.2)\n",
      "Requirement already satisfied: numba>=0.55.0 in /Users/abhilashreddy/anaconda3/lib/python3.11/site-packages (from pycaret) (0.57.0)\n",
      "Requirement already satisfied: numpy<1.27,>=1.21 in /Users/abhilashreddy/anaconda3/lib/python3.11/site-packages (from pycaret) (1.24.3)\n",
      "Requirement already satisfied: pandas<2.0.0,>=1.3.0 in /Users/abhilashreddy/anaconda3/lib/python3.11/site-packages (from pycaret) (1.5.3)\n",
      "Requirement already satisfied: plotly-resampler>=0.8.3.1 in /Users/abhilashreddy/anaconda3/lib/python3.11/site-packages (from pycaret) (0.9.2)\n",
      "Requirement already satisfied: plotly>=5.0.0 in /Users/abhilashreddy/anaconda3/lib/python3.11/site-packages (from pycaret) (5.9.0)\n",
      "Requirement already satisfied: pmdarima!=1.8.1,<3.0.0,>=1.8.0 in /Users/abhilashreddy/anaconda3/lib/python3.11/site-packages (from pycaret) (2.0.4)\n",
      "Requirement already satisfied: psutil>=5.9.0 in /Users/abhilashreddy/anaconda3/lib/python3.11/site-packages (from pycaret) (5.9.0)\n",
      "Requirement already satisfied: pyod>=1.0.8 in /Users/abhilashreddy/anaconda3/lib/python3.11/site-packages (from pycaret) (1.1.3)\n",
      "Requirement already satisfied: requests>=2.27.1 in /Users/abhilashreddy/anaconda3/lib/python3.11/site-packages (from pycaret) (2.31.0)\n",
      "Requirement already satisfied: schemdraw==0.15 in /Users/abhilashreddy/anaconda3/lib/python3.11/site-packages (from pycaret) (0.15)\n",
      "Requirement already satisfied: scikit-learn<1.3.0,>=1.0 in /Users/abhilashreddy/anaconda3/lib/python3.11/site-packages (from pycaret) (1.2.2)\n",
      "Requirement already satisfied: scikit-plot>=0.3.7 in /Users/abhilashreddy/anaconda3/lib/python3.11/site-packages (from pycaret) (0.3.7)\n",
      "Requirement already satisfied: scipy~=1.10.1 in /Users/abhilashreddy/anaconda3/lib/python3.11/site-packages (from pycaret) (1.10.1)\n",
      "Requirement already satisfied: sktime!=0.17.1,!=0.17.2,!=0.18.0,<0.22.0,>=0.16.1 in /Users/abhilashreddy/anaconda3/lib/python3.11/site-packages (from pycaret) (0.21.1)\n",
      "Requirement already satisfied: statsmodels>=0.12.1 in /Users/abhilashreddy/anaconda3/lib/python3.11/site-packages (from pycaret) (0.14.0)\n",
      "Requirement already satisfied: tbats>=1.1.3 in /Users/abhilashreddy/anaconda3/lib/python3.11/site-packages (from pycaret) (1.1.3)\n",
      "Requirement already satisfied: tqdm>=4.62.0 in /Users/abhilashreddy/anaconda3/lib/python3.11/site-packages (from pycaret) (4.65.0)\n",
      "Requirement already satisfied: xxhash in /Users/abhilashreddy/anaconda3/lib/python3.11/site-packages (from pycaret) (2.0.2)\n",
      "Requirement already satisfied: yellowbrick>=1.4 in /Users/abhilashreddy/anaconda3/lib/python3.11/site-packages (from pycaret) (1.5)\n",
      "Requirement already satisfied: wurlitzer in /Users/abhilashreddy/anaconda3/lib/python3.11/site-packages (from pycaret) (3.0.2)\n",
      "Requirement already satisfied: patsy>=0.5.1 in /Users/abhilashreddy/anaconda3/lib/python3.11/site-packages (from category-encoders>=2.4.0->pycaret) (0.5.3)\n",
      "Requirement already satisfied: packaging in /Users/abhilashreddy/anaconda3/lib/python3.11/site-packages (from deprecation>=2.1.0->pycaret) (23.1)\n",
      "Requirement already satisfied: threadpoolctl>=2.0.0 in /Users/abhilashreddy/anaconda3/lib/python3.11/site-packages (from imbalanced-learn>=0.8.1->pycaret) (2.2.0)\n",
      "Requirement already satisfied: zipp>=0.5 in /Users/abhilashreddy/anaconda3/lib/python3.11/site-packages (from importlib-metadata>=4.12.0->pycaret) (3.11.0)\n",
      "Requirement already satisfied: backcall in /Users/abhilashreddy/anaconda3/lib/python3.11/site-packages (from ipython>=5.5.0->pycaret) (0.2.0)\n",
      "Requirement already satisfied: decorator in /Users/abhilashreddy/anaconda3/lib/python3.11/site-packages (from ipython>=5.5.0->pycaret) (5.1.1)\n",
      "Requirement already satisfied: jedi>=0.16 in /Users/abhilashreddy/anaconda3/lib/python3.11/site-packages (from ipython>=5.5.0->pycaret) (0.18.1)\n",
      "Requirement already satisfied: matplotlib-inline in /Users/abhilashreddy/anaconda3/lib/python3.11/site-packages (from ipython>=5.5.0->pycaret) (0.1.6)\n",
      "Requirement already satisfied: pickleshare in /Users/abhilashreddy/anaconda3/lib/python3.11/site-packages (from ipython>=5.5.0->pycaret) (0.7.5)\n",
      "Requirement already satisfied: prompt-toolkit!=3.0.37,<3.1.0,>=3.0.30 in /Users/abhilashreddy/anaconda3/lib/python3.11/site-packages (from ipython>=5.5.0->pycaret) (3.0.36)\n",
      "Requirement already satisfied: pygments>=2.4.0 in /Users/abhilashreddy/anaconda3/lib/python3.11/site-packages (from ipython>=5.5.0->pycaret) (2.15.1)\n",
      "Requirement already satisfied: stack-data in /Users/abhilashreddy/anaconda3/lib/python3.11/site-packages (from ipython>=5.5.0->pycaret) (0.2.0)\n",
      "Requirement already satisfied: traitlets>=5 in /Users/abhilashreddy/anaconda3/lib/python3.11/site-packages (from ipython>=5.5.0->pycaret) (5.7.1)\n",
      "Requirement already satisfied: pexpect>4.3 in /Users/abhilashreddy/anaconda3/lib/python3.11/site-packages (from ipython>=5.5.0->pycaret) (4.8.0)\n",
      "Requirement already satisfied: appnope in /Users/abhilashreddy/anaconda3/lib/python3.11/site-packages (from ipython>=5.5.0->pycaret) (0.1.2)\n",
      "Requirement already satisfied: ipykernel>=4.5.1 in /Users/abhilashreddy/anaconda3/lib/python3.11/site-packages (from ipywidgets>=7.6.5->pycaret) (6.25.0)\n",
      "Requirement already satisfied: widgetsnbextension~=4.0 in /Users/abhilashreddy/anaconda3/lib/python3.11/site-packages (from ipywidgets>=7.6.5->pycaret) (4.0.5)\n",
      "Requirement already satisfied: jupyterlab-widgets~=3.0 in /Users/abhilashreddy/anaconda3/lib/python3.11/site-packages (from ipywidgets>=7.6.5->pycaret) (3.0.5)\n",
      "Requirement already satisfied: contourpy>=1.0.1 in /Users/abhilashreddy/anaconda3/lib/python3.11/site-packages (from matplotlib<=3.6,>=3.3.0->pycaret) (1.0.5)\n",
      "Requirement already satisfied: cycler>=0.10 in /Users/abhilashreddy/anaconda3/lib/python3.11/site-packages (from matplotlib<=3.6,>=3.3.0->pycaret) (0.11.0)\n",
      "Requirement already satisfied: fonttools>=4.22.0 in /Users/abhilashreddy/anaconda3/lib/python3.11/site-packages (from matplotlib<=3.6,>=3.3.0->pycaret) (4.25.0)\n",
      "Requirement already satisfied: kiwisolver>=1.0.1 in /Users/abhilashreddy/anaconda3/lib/python3.11/site-packages (from matplotlib<=3.6,>=3.3.0->pycaret) (1.4.4)\n",
      "Requirement already satisfied: pillow>=6.2.0 in /Users/abhilashreddy/anaconda3/lib/python3.11/site-packages (from matplotlib<=3.6,>=3.3.0->pycaret) (10.2.0)\n",
      "Requirement already satisfied: pyparsing>=2.2.1 in /Users/abhilashreddy/anaconda3/lib/python3.11/site-packages (from matplotlib<=3.6,>=3.3.0->pycaret) (3.0.9)\n",
      "Requirement already satisfied: python-dateutil>=2.7 in /Users/abhilashreddy/anaconda3/lib/python3.11/site-packages (from matplotlib<=3.6,>=3.3.0->pycaret) (2.8.2)\n",
      "Requirement already satisfied: fastjsonschema in /Users/abhilashreddy/anaconda3/lib/python3.11/site-packages (from nbformat>=4.2.0->pycaret) (2.16.2)\n",
      "Requirement already satisfied: jsonschema>=2.6 in /Users/abhilashreddy/anaconda3/lib/python3.11/site-packages (from nbformat>=4.2.0->pycaret) (4.17.3)\n",
      "Requirement already satisfied: jupyter-core in /Users/abhilashreddy/anaconda3/lib/python3.11/site-packages (from nbformat>=4.2.0->pycaret) (5.3.0)\n",
      "Requirement already satisfied: llvmlite<0.41,>=0.40.0dev0 in /Users/abhilashreddy/anaconda3/lib/python3.11/site-packages (from numba>=0.55.0->pycaret) (0.40.0)\n",
      "Requirement already satisfied: pytz>=2020.1 in /Users/abhilashreddy/anaconda3/lib/python3.11/site-packages (from pandas<2.0.0,>=1.3.0->pycaret) (2023.3.post1)\n",
      "Requirement already satisfied: tenacity>=6.2.0 in /Users/abhilashreddy/anaconda3/lib/python3.11/site-packages (from plotly>=5.0.0->pycaret) (8.2.2)\n",
      "Requirement already satisfied: dash>=2.9.0 in /Users/abhilashreddy/anaconda3/lib/python3.11/site-packages (from plotly-resampler>=0.8.3.1->pycaret) (2.15.0)\n",
      "Requirement already satisfied: orjson<4.0.0,>=3.8.0 in /Users/abhilashreddy/anaconda3/lib/python3.11/site-packages (from plotly-resampler>=0.8.3.1->pycaret) (3.9.14)\n",
      "Requirement already satisfied: tsdownsample==0.1.2 in /Users/abhilashreddy/anaconda3/lib/python3.11/site-packages (from plotly-resampler>=0.8.3.1->pycaret) (0.1.2)\n",
      "Requirement already satisfied: Cython!=0.29.18,!=0.29.31,>=0.29 in /Users/abhilashreddy/anaconda3/lib/python3.11/site-packages (from pmdarima!=1.8.1,<3.0.0,>=1.8.0->pycaret) (3.0.8)\n",
      "Requirement already satisfied: urllib3 in /Users/abhilashreddy/anaconda3/lib/python3.11/site-packages (from pmdarima!=1.8.1,<3.0.0,>=1.8.0->pycaret) (1.26.16)\n",
      "Requirement already satisfied: setuptools!=50.0.0,>=38.6.0 in /Users/abhilashreddy/anaconda3/lib/python3.11/site-packages (from pmdarima!=1.8.1,<3.0.0,>=1.8.0->pycaret) (68.0.0)\n",
      "Requirement already satisfied: six in /Users/abhilashreddy/anaconda3/lib/python3.11/site-packages (from pyod>=1.0.8->pycaret) (1.16.0)\n",
      "Requirement already satisfied: charset-normalizer<4,>=2 in /Users/abhilashreddy/anaconda3/lib/python3.11/site-packages (from requests>=2.27.1->pycaret) (2.0.4)\n",
      "Requirement already satisfied: idna<4,>=2.5 in /Users/abhilashreddy/anaconda3/lib/python3.11/site-packages (from requests>=2.27.1->pycaret) (3.4)\n",
      "Requirement already satisfied: certifi>=2017.4.17 in /Users/abhilashreddy/anaconda3/lib/python3.11/site-packages (from requests>=2.27.1->pycaret) (2024.2.2)\n",
      "Requirement already satisfied: deprecated>=1.2.13 in /Users/abhilashreddy/anaconda3/lib/python3.11/site-packages (from sktime!=0.17.1,!=0.17.2,!=0.18.0,<0.22.0,>=0.16.1->pycaret) (1.2.14)\n",
      "Requirement already satisfied: scikit-base<0.6.0 in /Users/abhilashreddy/anaconda3/lib/python3.11/site-packages (from sktime!=0.17.1,!=0.17.2,!=0.18.0,<0.22.0,>=0.16.1->pycaret) (0.5.2)\n",
      "Requirement already satisfied: Flask<3.1,>=1.0.4 in /Users/abhilashreddy/anaconda3/lib/python3.11/site-packages (from dash>=2.9.0->plotly-resampler>=0.8.3.1->pycaret) (2.2.2)\n",
      "Requirement already satisfied: Werkzeug<3.1 in /Users/abhilashreddy/anaconda3/lib/python3.11/site-packages (from dash>=2.9.0->plotly-resampler>=0.8.3.1->pycaret) (2.2.3)\n",
      "Requirement already satisfied: dash-html-components==2.0.0 in /Users/abhilashreddy/anaconda3/lib/python3.11/site-packages (from dash>=2.9.0->plotly-resampler>=0.8.3.1->pycaret) (2.0.0)\n",
      "Requirement already satisfied: dash-core-components==2.0.0 in /Users/abhilashreddy/anaconda3/lib/python3.11/site-packages (from dash>=2.9.0->plotly-resampler>=0.8.3.1->pycaret) (2.0.0)\n",
      "Requirement already satisfied: dash-table==5.0.0 in /Users/abhilashreddy/anaconda3/lib/python3.11/site-packages (from dash>=2.9.0->plotly-resampler>=0.8.3.1->pycaret) (5.0.0)\n",
      "Requirement already satisfied: typing-extensions>=4.1.1 in /Users/abhilashreddy/anaconda3/lib/python3.11/site-packages (from dash>=2.9.0->plotly-resampler>=0.8.3.1->pycaret) (4.7.1)\n",
      "Requirement already satisfied: retrying in /Users/abhilashreddy/anaconda3/lib/python3.11/site-packages (from dash>=2.9.0->plotly-resampler>=0.8.3.1->pycaret) (1.3.4)\n",
      "Requirement already satisfied: nest-asyncio in /Users/abhilashreddy/anaconda3/lib/python3.11/site-packages (from dash>=2.9.0->plotly-resampler>=0.8.3.1->pycaret) (1.5.6)\n",
      "Requirement already satisfied: wrapt<2,>=1.10 in /Users/abhilashreddy/anaconda3/lib/python3.11/site-packages (from deprecated>=1.2.13->sktime!=0.17.1,!=0.17.2,!=0.18.0,<0.22.0,>=0.16.1->pycaret) (1.14.1)\n",
      "Requirement already satisfied: comm>=0.1.1 in /Users/abhilashreddy/anaconda3/lib/python3.11/site-packages (from ipykernel>=4.5.1->ipywidgets>=7.6.5->pycaret) (0.1.2)\n",
      "Requirement already satisfied: debugpy>=1.6.5 in /Users/abhilashreddy/anaconda3/lib/python3.11/site-packages (from ipykernel>=4.5.1->ipywidgets>=7.6.5->pycaret) (1.6.7)\n",
      "Requirement already satisfied: jupyter-client>=6.1.12 in /Users/abhilashreddy/anaconda3/lib/python3.11/site-packages (from ipykernel>=4.5.1->ipywidgets>=7.6.5->pycaret) (7.4.9)\n",
      "Requirement already satisfied: pyzmq>=20 in /Users/abhilashreddy/anaconda3/lib/python3.11/site-packages (from ipykernel>=4.5.1->ipywidgets>=7.6.5->pycaret) (23.2.0)\n",
      "Requirement already satisfied: tornado>=6.1 in /Users/abhilashreddy/anaconda3/lib/python3.11/site-packages (from ipykernel>=4.5.1->ipywidgets>=7.6.5->pycaret) (6.3.2)\n",
      "Requirement already satisfied: parso<0.9.0,>=0.8.0 in /Users/abhilashreddy/anaconda3/lib/python3.11/site-packages (from jedi>=0.16->ipython>=5.5.0->pycaret) (0.8.3)\n",
      "Requirement already satisfied: attrs>=17.4.0 in /Users/abhilashreddy/anaconda3/lib/python3.11/site-packages (from jsonschema>=2.6->nbformat>=4.2.0->pycaret) (22.1.0)\n",
      "Requirement already satisfied: pyrsistent!=0.17.0,!=0.17.1,!=0.17.2,>=0.14.0 in /Users/abhilashreddy/anaconda3/lib/python3.11/site-packages (from jsonschema>=2.6->nbformat>=4.2.0->pycaret) (0.18.0)\n",
      "Requirement already satisfied: platformdirs>=2.5 in /Users/abhilashreddy/anaconda3/lib/python3.11/site-packages (from jupyter-core->nbformat>=4.2.0->pycaret) (3.10.0)\n",
      "Requirement already satisfied: ptyprocess>=0.5 in /Users/abhilashreddy/anaconda3/lib/python3.11/site-packages (from pexpect>4.3->ipython>=5.5.0->pycaret) (0.7.0)\n",
      "Requirement already satisfied: wcwidth in /Users/abhilashreddy/anaconda3/lib/python3.11/site-packages (from prompt-toolkit!=3.0.37,<3.1.0,>=3.0.30->ipython>=5.5.0->pycaret) (0.2.5)\n",
      "Requirement already satisfied: executing in /Users/abhilashreddy/anaconda3/lib/python3.11/site-packages (from stack-data->ipython>=5.5.0->pycaret) (0.8.3)\n",
      "Requirement already satisfied: asttokens in /Users/abhilashreddy/anaconda3/lib/python3.11/site-packages (from stack-data->ipython>=5.5.0->pycaret) (2.0.5)\n",
      "Requirement already satisfied: pure-eval in /Users/abhilashreddy/anaconda3/lib/python3.11/site-packages (from stack-data->ipython>=5.5.0->pycaret) (0.2.2)\n",
      "Requirement already satisfied: itsdangerous>=2.0 in /Users/abhilashreddy/anaconda3/lib/python3.11/site-packages (from Flask<3.1,>=1.0.4->dash>=2.9.0->plotly-resampler>=0.8.3.1->pycaret) (2.0.1)\n",
      "Requirement already satisfied: click>=8.0 in /Users/abhilashreddy/anaconda3/lib/python3.11/site-packages (from Flask<3.1,>=1.0.4->dash>=2.9.0->plotly-resampler>=0.8.3.1->pycaret) (8.0.4)\n",
      "Requirement already satisfied: entrypoints in /Users/abhilashreddy/anaconda3/lib/python3.11/site-packages (from jupyter-client>=6.1.12->ipykernel>=4.5.1->ipywidgets>=7.6.5->pycaret) (0.4)\n",
      "Note: you may need to restart the kernel to use updated packages.\n"
     ]
    }
   ],
   "source": [
    "pip install pycaret"
   ]
  },
  {
   "cell_type": "code",
   "execution_count": 27,
   "id": "2f80b092",
   "metadata": {},
   "outputs": [],
   "source": [
    "from pycaret.classification import *"
   ]
  },
  {
   "cell_type": "markdown",
   "id": "84d68f83",
   "metadata": {},
   "source": [
    "Next, we can setup our autoML:"
   ]
  },
  {
   "cell_type": "code",
   "execution_count": 28,
   "id": "aac367b5",
   "metadata": {
    "scrolled": true
   },
   "outputs": [
    {
     "data": {
      "text/html": [
       "<style type=\"text/css\">\n",
       "#T_6bc23_row12_col1 {\n",
       "  background-color: lightgreen;\n",
       "}\n",
       "</style>\n",
       "<table id=\"T_6bc23\">\n",
       "  <thead>\n",
       "    <tr>\n",
       "      <th class=\"blank level0\" >&nbsp;</th>\n",
       "      <th id=\"T_6bc23_level0_col0\" class=\"col_heading level0 col0\" >Description</th>\n",
       "      <th id=\"T_6bc23_level0_col1\" class=\"col_heading level0 col1\" >Value</th>\n",
       "    </tr>\n",
       "  </thead>\n",
       "  <tbody>\n",
       "    <tr>\n",
       "      <th id=\"T_6bc23_level0_row0\" class=\"row_heading level0 row0\" >0</th>\n",
       "      <td id=\"T_6bc23_row0_col0\" class=\"data row0 col0\" >Session id</td>\n",
       "      <td id=\"T_6bc23_row0_col1\" class=\"data row0 col1\" >3611</td>\n",
       "    </tr>\n",
       "    <tr>\n",
       "      <th id=\"T_6bc23_level0_row1\" class=\"row_heading level0 row1\" >1</th>\n",
       "      <td id=\"T_6bc23_row1_col0\" class=\"data row1 col0\" >Target</td>\n",
       "      <td id=\"T_6bc23_row1_col1\" class=\"data row1 col1\" >Churn</td>\n",
       "    </tr>\n",
       "    <tr>\n",
       "      <th id=\"T_6bc23_level0_row2\" class=\"row_heading level0 row2\" >2</th>\n",
       "      <td id=\"T_6bc23_row2_col0\" class=\"data row2 col0\" >Target type</td>\n",
       "      <td id=\"T_6bc23_row2_col1\" class=\"data row2 col1\" >Binary</td>\n",
       "    </tr>\n",
       "    <tr>\n",
       "      <th id=\"T_6bc23_level0_row3\" class=\"row_heading level0 row3\" >3</th>\n",
       "      <td id=\"T_6bc23_row3_col0\" class=\"data row3 col0\" >Target mapping</td>\n",
       "      <td id=\"T_6bc23_row3_col1\" class=\"data row3 col1\" >No: 0, Yes: 1</td>\n",
       "    </tr>\n",
       "    <tr>\n",
       "      <th id=\"T_6bc23_level0_row4\" class=\"row_heading level0 row4\" >4</th>\n",
       "      <td id=\"T_6bc23_row4_col0\" class=\"data row4 col0\" >Original data shape</td>\n",
       "      <td id=\"T_6bc23_row4_col1\" class=\"data row4 col1\" >(7043, 7)</td>\n",
       "    </tr>\n",
       "    <tr>\n",
       "      <th id=\"T_6bc23_level0_row5\" class=\"row_heading level0 row5\" >5</th>\n",
       "      <td id=\"T_6bc23_row5_col0\" class=\"data row5 col0\" >Transformed data shape</td>\n",
       "      <td id=\"T_6bc23_row5_col1\" class=\"data row5 col1\" >(7043, 12)</td>\n",
       "    </tr>\n",
       "    <tr>\n",
       "      <th id=\"T_6bc23_level0_row6\" class=\"row_heading level0 row6\" >6</th>\n",
       "      <td id=\"T_6bc23_row6_col0\" class=\"data row6 col0\" >Transformed train set shape</td>\n",
       "      <td id=\"T_6bc23_row6_col1\" class=\"data row6 col1\" >(4930, 12)</td>\n",
       "    </tr>\n",
       "    <tr>\n",
       "      <th id=\"T_6bc23_level0_row7\" class=\"row_heading level0 row7\" >7</th>\n",
       "      <td id=\"T_6bc23_row7_col0\" class=\"data row7 col0\" >Transformed test set shape</td>\n",
       "      <td id=\"T_6bc23_row7_col1\" class=\"data row7 col1\" >(2113, 12)</td>\n",
       "    </tr>\n",
       "    <tr>\n",
       "      <th id=\"T_6bc23_level0_row8\" class=\"row_heading level0 row8\" >8</th>\n",
       "      <td id=\"T_6bc23_row8_col0\" class=\"data row8 col0\" >Ordinal features</td>\n",
       "      <td id=\"T_6bc23_row8_col1\" class=\"data row8 col1\" >1</td>\n",
       "    </tr>\n",
       "    <tr>\n",
       "      <th id=\"T_6bc23_level0_row9\" class=\"row_heading level0 row9\" >9</th>\n",
       "      <td id=\"T_6bc23_row9_col0\" class=\"data row9 col0\" >Numeric features</td>\n",
       "      <td id=\"T_6bc23_row9_col1\" class=\"data row9 col1\" >3</td>\n",
       "    </tr>\n",
       "    <tr>\n",
       "      <th id=\"T_6bc23_level0_row10\" class=\"row_heading level0 row10\" >10</th>\n",
       "      <td id=\"T_6bc23_row10_col0\" class=\"data row10 col0\" >Categorical features</td>\n",
       "      <td id=\"T_6bc23_row10_col1\" class=\"data row10 col1\" >3</td>\n",
       "    </tr>\n",
       "    <tr>\n",
       "      <th id=\"T_6bc23_level0_row11\" class=\"row_heading level0 row11\" >11</th>\n",
       "      <td id=\"T_6bc23_row11_col0\" class=\"data row11 col0\" >Rows with missing values</td>\n",
       "      <td id=\"T_6bc23_row11_col1\" class=\"data row11 col1\" >0.2%</td>\n",
       "    </tr>\n",
       "    <tr>\n",
       "      <th id=\"T_6bc23_level0_row12\" class=\"row_heading level0 row12\" >12</th>\n",
       "      <td id=\"T_6bc23_row12_col0\" class=\"data row12 col0\" >Preprocess</td>\n",
       "      <td id=\"T_6bc23_row12_col1\" class=\"data row12 col1\" >True</td>\n",
       "    </tr>\n",
       "    <tr>\n",
       "      <th id=\"T_6bc23_level0_row13\" class=\"row_heading level0 row13\" >13</th>\n",
       "      <td id=\"T_6bc23_row13_col0\" class=\"data row13 col0\" >Imputation type</td>\n",
       "      <td id=\"T_6bc23_row13_col1\" class=\"data row13 col1\" >simple</td>\n",
       "    </tr>\n",
       "    <tr>\n",
       "      <th id=\"T_6bc23_level0_row14\" class=\"row_heading level0 row14\" >14</th>\n",
       "      <td id=\"T_6bc23_row14_col0\" class=\"data row14 col0\" >Numeric imputation</td>\n",
       "      <td id=\"T_6bc23_row14_col1\" class=\"data row14 col1\" >mean</td>\n",
       "    </tr>\n",
       "    <tr>\n",
       "      <th id=\"T_6bc23_level0_row15\" class=\"row_heading level0 row15\" >15</th>\n",
       "      <td id=\"T_6bc23_row15_col0\" class=\"data row15 col0\" >Categorical imputation</td>\n",
       "      <td id=\"T_6bc23_row15_col1\" class=\"data row15 col1\" >mode</td>\n",
       "    </tr>\n",
       "    <tr>\n",
       "      <th id=\"T_6bc23_level0_row16\" class=\"row_heading level0 row16\" >16</th>\n",
       "      <td id=\"T_6bc23_row16_col0\" class=\"data row16 col0\" >Maximum one-hot encoding</td>\n",
       "      <td id=\"T_6bc23_row16_col1\" class=\"data row16 col1\" >25</td>\n",
       "    </tr>\n",
       "    <tr>\n",
       "      <th id=\"T_6bc23_level0_row17\" class=\"row_heading level0 row17\" >17</th>\n",
       "      <td id=\"T_6bc23_row17_col0\" class=\"data row17 col0\" >Encoding method</td>\n",
       "      <td id=\"T_6bc23_row17_col1\" class=\"data row17 col1\" >None</td>\n",
       "    </tr>\n",
       "    <tr>\n",
       "      <th id=\"T_6bc23_level0_row18\" class=\"row_heading level0 row18\" >18</th>\n",
       "      <td id=\"T_6bc23_row18_col0\" class=\"data row18 col0\" >Fold Generator</td>\n",
       "      <td id=\"T_6bc23_row18_col1\" class=\"data row18 col1\" >StratifiedKFold</td>\n",
       "    </tr>\n",
       "    <tr>\n",
       "      <th id=\"T_6bc23_level0_row19\" class=\"row_heading level0 row19\" >19</th>\n",
       "      <td id=\"T_6bc23_row19_col0\" class=\"data row19 col0\" >Fold Number</td>\n",
       "      <td id=\"T_6bc23_row19_col1\" class=\"data row19 col1\" >10</td>\n",
       "    </tr>\n",
       "    <tr>\n",
       "      <th id=\"T_6bc23_level0_row20\" class=\"row_heading level0 row20\" >20</th>\n",
       "      <td id=\"T_6bc23_row20_col0\" class=\"data row20 col0\" >CPU Jobs</td>\n",
       "      <td id=\"T_6bc23_row20_col1\" class=\"data row20 col1\" >-1</td>\n",
       "    </tr>\n",
       "    <tr>\n",
       "      <th id=\"T_6bc23_level0_row21\" class=\"row_heading level0 row21\" >21</th>\n",
       "      <td id=\"T_6bc23_row21_col0\" class=\"data row21 col0\" >Use GPU</td>\n",
       "      <td id=\"T_6bc23_row21_col1\" class=\"data row21 col1\" >False</td>\n",
       "    </tr>\n",
       "    <tr>\n",
       "      <th id=\"T_6bc23_level0_row22\" class=\"row_heading level0 row22\" >22</th>\n",
       "      <td id=\"T_6bc23_row22_col0\" class=\"data row22 col0\" >Log Experiment</td>\n",
       "      <td id=\"T_6bc23_row22_col1\" class=\"data row22 col1\" >False</td>\n",
       "    </tr>\n",
       "    <tr>\n",
       "      <th id=\"T_6bc23_level0_row23\" class=\"row_heading level0 row23\" >23</th>\n",
       "      <td id=\"T_6bc23_row23_col0\" class=\"data row23 col0\" >Experiment Name</td>\n",
       "      <td id=\"T_6bc23_row23_col1\" class=\"data row23 col1\" >clf-default-name</td>\n",
       "    </tr>\n",
       "    <tr>\n",
       "      <th id=\"T_6bc23_level0_row24\" class=\"row_heading level0 row24\" >24</th>\n",
       "      <td id=\"T_6bc23_row24_col0\" class=\"data row24 col0\" >USI</td>\n",
       "      <td id=\"T_6bc23_row24_col1\" class=\"data row24 col1\" >e809</td>\n",
       "    </tr>\n",
       "  </tbody>\n",
       "</table>\n"
      ],
      "text/plain": [
       "<pandas.io.formats.style.Styler at 0x15b1bf510>"
      ]
     },
     "metadata": {},
     "output_type": "display_data"
    }
   ],
   "source": [
    "automl = setup(df, target='Churn')"
   ]
  },
  {
   "cell_type": "markdown",
   "id": "d9da5c7c",
   "metadata": {},
   "source": [
    "In the above pre processing is true where that datatype conversion from string to numeric by default data type is binary"
   ]
  },
  {
   "cell_type": "markdown",
   "id": "a8c1635d",
   "metadata": {},
   "source": [
    "Next up, we simply run the autoML to find the best model:"
   ]
  },
  {
   "cell_type": "code",
   "execution_count": 29,
   "id": "e3c206e2",
   "metadata": {},
   "outputs": [
    {
     "data": {
      "text/html": [],
      "text/plain": [
       "<IPython.core.display.HTML object>"
      ]
     },
     "metadata": {},
     "output_type": "display_data"
    },
    {
     "data": {
      "text/html": [
       "<style type=\"text/css\">\n",
       "#T_069ba th {\n",
       "  text-align: left;\n",
       "}\n",
       "#T_069ba_row0_col0, #T_069ba_row0_col2, #T_069ba_row0_col4, #T_069ba_row1_col0, #T_069ba_row1_col1, #T_069ba_row1_col2, #T_069ba_row1_col3, #T_069ba_row1_col4, #T_069ba_row1_col5, #T_069ba_row1_col6, #T_069ba_row1_col7, #T_069ba_row2_col0, #T_069ba_row2_col1, #T_069ba_row2_col2, #T_069ba_row2_col3, #T_069ba_row2_col4, #T_069ba_row2_col5, #T_069ba_row2_col6, #T_069ba_row2_col7, #T_069ba_row3_col0, #T_069ba_row3_col1, #T_069ba_row3_col2, #T_069ba_row3_col3, #T_069ba_row3_col4, #T_069ba_row3_col5, #T_069ba_row3_col6, #T_069ba_row3_col7, #T_069ba_row4_col0, #T_069ba_row4_col1, #T_069ba_row4_col3, #T_069ba_row4_col4, #T_069ba_row4_col5, #T_069ba_row4_col6, #T_069ba_row4_col7, #T_069ba_row5_col0, #T_069ba_row5_col1, #T_069ba_row5_col2, #T_069ba_row5_col3, #T_069ba_row5_col4, #T_069ba_row5_col5, #T_069ba_row5_col6, #T_069ba_row5_col7, #T_069ba_row6_col0, #T_069ba_row6_col1, #T_069ba_row6_col2, #T_069ba_row6_col3, #T_069ba_row6_col4, #T_069ba_row6_col5, #T_069ba_row6_col6, #T_069ba_row6_col7, #T_069ba_row7_col0, #T_069ba_row7_col1, #T_069ba_row7_col2, #T_069ba_row7_col3, #T_069ba_row7_col4, #T_069ba_row7_col5, #T_069ba_row7_col6, #T_069ba_row7_col7, #T_069ba_row8_col0, #T_069ba_row8_col1, #T_069ba_row8_col2, #T_069ba_row8_col3, #T_069ba_row8_col4, #T_069ba_row8_col5, #T_069ba_row8_col6, #T_069ba_row8_col7, #T_069ba_row9_col0, #T_069ba_row9_col1, #T_069ba_row9_col2, #T_069ba_row9_col3, #T_069ba_row9_col4, #T_069ba_row9_col5, #T_069ba_row9_col6, #T_069ba_row9_col7, #T_069ba_row10_col0, #T_069ba_row10_col1, #T_069ba_row10_col2, #T_069ba_row10_col3, #T_069ba_row10_col4, #T_069ba_row10_col5, #T_069ba_row10_col6, #T_069ba_row10_col7, #T_069ba_row11_col0, #T_069ba_row11_col1, #T_069ba_row11_col2, #T_069ba_row11_col3, #T_069ba_row11_col5, #T_069ba_row11_col6, #T_069ba_row11_col7, #T_069ba_row12_col0, #T_069ba_row12_col1, #T_069ba_row12_col2, #T_069ba_row12_col3, #T_069ba_row12_col4, #T_069ba_row12_col5, #T_069ba_row12_col6, #T_069ba_row12_col7, #T_069ba_row13_col0, #T_069ba_row13_col1, #T_069ba_row13_col2, #T_069ba_row13_col3, #T_069ba_row13_col4, #T_069ba_row13_col5, #T_069ba_row13_col6, #T_069ba_row13_col7 {\n",
       "  text-align: left;\n",
       "}\n",
       "#T_069ba_row0_col1, #T_069ba_row0_col3, #T_069ba_row0_col5, #T_069ba_row0_col6, #T_069ba_row0_col7, #T_069ba_row4_col2, #T_069ba_row11_col4 {\n",
       "  text-align: left;\n",
       "  background-color: yellow;\n",
       "}\n",
       "#T_069ba_row0_col8, #T_069ba_row1_col8, #T_069ba_row3_col8, #T_069ba_row4_col8, #T_069ba_row5_col8, #T_069ba_row6_col8, #T_069ba_row7_col8, #T_069ba_row8_col8, #T_069ba_row9_col8, #T_069ba_row10_col8, #T_069ba_row12_col8, #T_069ba_row13_col8 {\n",
       "  text-align: left;\n",
       "  background-color: lightgrey;\n",
       "}\n",
       "#T_069ba_row2_col8, #T_069ba_row11_col8 {\n",
       "  text-align: left;\n",
       "  background-color: yellow;\n",
       "  background-color: lightgrey;\n",
       "}\n",
       "</style>\n",
       "<table id=\"T_069ba\">\n",
       "  <thead>\n",
       "    <tr>\n",
       "      <th class=\"blank level0\" >&nbsp;</th>\n",
       "      <th id=\"T_069ba_level0_col0\" class=\"col_heading level0 col0\" >Model</th>\n",
       "      <th id=\"T_069ba_level0_col1\" class=\"col_heading level0 col1\" >Accuracy</th>\n",
       "      <th id=\"T_069ba_level0_col2\" class=\"col_heading level0 col2\" >AUC</th>\n",
       "      <th id=\"T_069ba_level0_col3\" class=\"col_heading level0 col3\" >Recall</th>\n",
       "      <th id=\"T_069ba_level0_col4\" class=\"col_heading level0 col4\" >Prec.</th>\n",
       "      <th id=\"T_069ba_level0_col5\" class=\"col_heading level0 col5\" >F1</th>\n",
       "      <th id=\"T_069ba_level0_col6\" class=\"col_heading level0 col6\" >Kappa</th>\n",
       "      <th id=\"T_069ba_level0_col7\" class=\"col_heading level0 col7\" >MCC</th>\n",
       "      <th id=\"T_069ba_level0_col8\" class=\"col_heading level0 col8\" >TT (Sec)</th>\n",
       "    </tr>\n",
       "  </thead>\n",
       "  <tbody>\n",
       "    <tr>\n",
       "      <th id=\"T_069ba_level0_row0\" class=\"row_heading level0 row0\" >lr</th>\n",
       "      <td id=\"T_069ba_row0_col0\" class=\"data row0 col0\" >Logistic Regression</td>\n",
       "      <td id=\"T_069ba_row0_col1\" class=\"data row0 col1\" >0.7970</td>\n",
       "      <td id=\"T_069ba_row0_col2\" class=\"data row0 col2\" >0.8380</td>\n",
       "      <td id=\"T_069ba_row0_col3\" class=\"data row0 col3\" >0.7970</td>\n",
       "      <td id=\"T_069ba_row0_col4\" class=\"data row0 col4\" >0.7878</td>\n",
       "      <td id=\"T_069ba_row0_col5\" class=\"data row0 col5\" >0.7901</td>\n",
       "      <td id=\"T_069ba_row0_col6\" class=\"data row0 col6\" >0.4473</td>\n",
       "      <td id=\"T_069ba_row0_col7\" class=\"data row0 col7\" >0.4515</td>\n",
       "      <td id=\"T_069ba_row0_col8\" class=\"data row0 col8\" >0.7780</td>\n",
       "    </tr>\n",
       "    <tr>\n",
       "      <th id=\"T_069ba_level0_row1\" class=\"row_heading level0 row1\" >ada</th>\n",
       "      <td id=\"T_069ba_row1_col0\" class=\"data row1 col0\" >Ada Boost Classifier</td>\n",
       "      <td id=\"T_069ba_row1_col1\" class=\"data row1 col1\" >0.7949</td>\n",
       "      <td id=\"T_069ba_row1_col2\" class=\"data row1 col2\" >0.8396</td>\n",
       "      <td id=\"T_069ba_row1_col3\" class=\"data row1 col3\" >0.7949</td>\n",
       "      <td id=\"T_069ba_row1_col4\" class=\"data row1 col4\" >0.7848</td>\n",
       "      <td id=\"T_069ba_row1_col5\" class=\"data row1 col5\" >0.7870</td>\n",
       "      <td id=\"T_069ba_row1_col6\" class=\"data row1 col6\" >0.4377</td>\n",
       "      <td id=\"T_069ba_row1_col7\" class=\"data row1 col7\" >0.4428</td>\n",
       "      <td id=\"T_069ba_row1_col8\" class=\"data row1 col8\" >0.0990</td>\n",
       "    </tr>\n",
       "    <tr>\n",
       "      <th id=\"T_069ba_level0_row2\" class=\"row_heading level0 row2\" >ridge</th>\n",
       "      <td id=\"T_069ba_row2_col0\" class=\"data row2 col0\" >Ridge Classifier</td>\n",
       "      <td id=\"T_069ba_row2_col1\" class=\"data row2 col1\" >0.7939</td>\n",
       "      <td id=\"T_069ba_row2_col2\" class=\"data row2 col2\" >0.0000</td>\n",
       "      <td id=\"T_069ba_row2_col3\" class=\"data row2 col3\" >0.7939</td>\n",
       "      <td id=\"T_069ba_row2_col4\" class=\"data row2 col4\" >0.7813</td>\n",
       "      <td id=\"T_069ba_row2_col5\" class=\"data row2 col5\" >0.7818</td>\n",
       "      <td id=\"T_069ba_row2_col6\" class=\"data row2 col6\" >0.4185</td>\n",
       "      <td id=\"T_069ba_row2_col7\" class=\"data row2 col7\" >0.4286</td>\n",
       "      <td id=\"T_069ba_row2_col8\" class=\"data row2 col8\" >0.0370</td>\n",
       "    </tr>\n",
       "    <tr>\n",
       "      <th id=\"T_069ba_level0_row3\" class=\"row_heading level0 row3\" >lda</th>\n",
       "      <td id=\"T_069ba_row3_col0\" class=\"data row3 col0\" >Linear Discriminant Analysis</td>\n",
       "      <td id=\"T_069ba_row3_col1\" class=\"data row3 col1\" >0.7915</td>\n",
       "      <td id=\"T_069ba_row3_col2\" class=\"data row3 col2\" >0.8284</td>\n",
       "      <td id=\"T_069ba_row3_col3\" class=\"data row3 col3\" >0.7915</td>\n",
       "      <td id=\"T_069ba_row3_col4\" class=\"data row3 col4\" >0.7829</td>\n",
       "      <td id=\"T_069ba_row3_col5\" class=\"data row3 col5\" >0.7854</td>\n",
       "      <td id=\"T_069ba_row3_col6\" class=\"data row3 col6\" >0.4368</td>\n",
       "      <td id=\"T_069ba_row3_col7\" class=\"data row3 col7\" >0.4399</td>\n",
       "      <td id=\"T_069ba_row3_col8\" class=\"data row3 col8\" >0.0410</td>\n",
       "    </tr>\n",
       "    <tr>\n",
       "      <th id=\"T_069ba_level0_row4\" class=\"row_heading level0 row4\" >gbc</th>\n",
       "      <td id=\"T_069ba_row4_col0\" class=\"data row4 col0\" >Gradient Boosting Classifier</td>\n",
       "      <td id=\"T_069ba_row4_col1\" class=\"data row4 col1\" >0.7913</td>\n",
       "      <td id=\"T_069ba_row4_col2\" class=\"data row4 col2\" >0.8427</td>\n",
       "      <td id=\"T_069ba_row4_col3\" class=\"data row4 col3\" >0.7913</td>\n",
       "      <td id=\"T_069ba_row4_col4\" class=\"data row4 col4\" >0.7812</td>\n",
       "      <td id=\"T_069ba_row4_col5\" class=\"data row4 col5\" >0.7830</td>\n",
       "      <td id=\"T_069ba_row4_col6\" class=\"data row4 col6\" >0.4273</td>\n",
       "      <td id=\"T_069ba_row4_col7\" class=\"data row4 col7\" >0.4330</td>\n",
       "      <td id=\"T_069ba_row4_col8\" class=\"data row4 col8\" >0.1570</td>\n",
       "    </tr>\n",
       "    <tr>\n",
       "      <th id=\"T_069ba_level0_row5\" class=\"row_heading level0 row5\" >lightgbm</th>\n",
       "      <td id=\"T_069ba_row5_col0\" class=\"data row5 col0\" >Light Gradient Boosting Machine</td>\n",
       "      <td id=\"T_069ba_row5_col1\" class=\"data row5 col1\" >0.7862</td>\n",
       "      <td id=\"T_069ba_row5_col2\" class=\"data row5 col2\" >0.8345</td>\n",
       "      <td id=\"T_069ba_row5_col3\" class=\"data row5 col3\" >0.7862</td>\n",
       "      <td id=\"T_069ba_row5_col4\" class=\"data row5 col4\" >0.7776</td>\n",
       "      <td id=\"T_069ba_row5_col5\" class=\"data row5 col5\" >0.7802</td>\n",
       "      <td id=\"T_069ba_row5_col6\" class=\"data row5 col6\" >0.4235</td>\n",
       "      <td id=\"T_069ba_row5_col7\" class=\"data row5 col7\" >0.4265</td>\n",
       "      <td id=\"T_069ba_row5_col8\" class=\"data row5 col8\" >0.6150</td>\n",
       "    </tr>\n",
       "    <tr>\n",
       "      <th id=\"T_069ba_level0_row6\" class=\"row_heading level0 row6\" >rf</th>\n",
       "      <td id=\"T_069ba_row6_col0\" class=\"data row6 col0\" >Random Forest Classifier</td>\n",
       "      <td id=\"T_069ba_row6_col1\" class=\"data row6 col1\" >0.7779</td>\n",
       "      <td id=\"T_069ba_row6_col2\" class=\"data row6 col2\" >0.8033</td>\n",
       "      <td id=\"T_069ba_row6_col3\" class=\"data row6 col3\" >0.7779</td>\n",
       "      <td id=\"T_069ba_row6_col4\" class=\"data row6 col4\" >0.7689</td>\n",
       "      <td id=\"T_069ba_row6_col5\" class=\"data row6 col5\" >0.7720</td>\n",
       "      <td id=\"T_069ba_row6_col6\" class=\"data row6 col6\" >0.4027</td>\n",
       "      <td id=\"T_069ba_row6_col7\" class=\"data row6 col7\" >0.4050</td>\n",
       "      <td id=\"T_069ba_row6_col8\" class=\"data row6 col8\" >0.1640</td>\n",
       "    </tr>\n",
       "    <tr>\n",
       "      <th id=\"T_069ba_level0_row7\" class=\"row_heading level0 row7\" >knn</th>\n",
       "      <td id=\"T_069ba_row7_col0\" class=\"data row7 col0\" >K Neighbors Classifier</td>\n",
       "      <td id=\"T_069ba_row7_col1\" class=\"data row7 col1\" >0.7726</td>\n",
       "      <td id=\"T_069ba_row7_col2\" class=\"data row7 col2\" >0.7533</td>\n",
       "      <td id=\"T_069ba_row7_col3\" class=\"data row7 col3\" >0.7726</td>\n",
       "      <td id=\"T_069ba_row7_col4\" class=\"data row7 col4\" >0.7596</td>\n",
       "      <td id=\"T_069ba_row7_col5\" class=\"data row7 col5\" >0.7628</td>\n",
       "      <td id=\"T_069ba_row7_col6\" class=\"data row7 col6\" >0.3725</td>\n",
       "      <td id=\"T_069ba_row7_col7\" class=\"data row7 col7\" >0.3779</td>\n",
       "      <td id=\"T_069ba_row7_col8\" class=\"data row7 col8\" >0.0550</td>\n",
       "    </tr>\n",
       "    <tr>\n",
       "      <th id=\"T_069ba_level0_row8\" class=\"row_heading level0 row8\" >et</th>\n",
       "      <td id=\"T_069ba_row8_col0\" class=\"data row8 col0\" >Extra Trees Classifier</td>\n",
       "      <td id=\"T_069ba_row8_col1\" class=\"data row8 col1\" >0.7637</td>\n",
       "      <td id=\"T_069ba_row8_col2\" class=\"data row8 col2\" >0.7778</td>\n",
       "      <td id=\"T_069ba_row8_col3\" class=\"data row8 col3\" >0.7637</td>\n",
       "      <td id=\"T_069ba_row8_col4\" class=\"data row8 col4\" >0.7570</td>\n",
       "      <td id=\"T_069ba_row8_col5\" class=\"data row8 col5\" >0.7595</td>\n",
       "      <td id=\"T_069ba_row8_col6\" class=\"data row8 col6\" >0.3740</td>\n",
       "      <td id=\"T_069ba_row8_col7\" class=\"data row8 col7\" >0.3753</td>\n",
       "      <td id=\"T_069ba_row8_col8\" class=\"data row8 col8\" >0.1530</td>\n",
       "    </tr>\n",
       "    <tr>\n",
       "      <th id=\"T_069ba_level0_row9\" class=\"row_heading level0 row9\" >dummy</th>\n",
       "      <td id=\"T_069ba_row9_col0\" class=\"data row9 col0\" >Dummy Classifier</td>\n",
       "      <td id=\"T_069ba_row9_col1\" class=\"data row9 col1\" >0.7347</td>\n",
       "      <td id=\"T_069ba_row9_col2\" class=\"data row9 col2\" >0.5000</td>\n",
       "      <td id=\"T_069ba_row9_col3\" class=\"data row9 col3\" >0.7347</td>\n",
       "      <td id=\"T_069ba_row9_col4\" class=\"data row9 col4\" >0.5398</td>\n",
       "      <td id=\"T_069ba_row9_col5\" class=\"data row9 col5\" >0.6223</td>\n",
       "      <td id=\"T_069ba_row9_col6\" class=\"data row9 col6\" >0.0000</td>\n",
       "      <td id=\"T_069ba_row9_col7\" class=\"data row9 col7\" >0.0000</td>\n",
       "      <td id=\"T_069ba_row9_col8\" class=\"data row9 col8\" >0.0390</td>\n",
       "    </tr>\n",
       "    <tr>\n",
       "      <th id=\"T_069ba_level0_row10\" class=\"row_heading level0 row10\" >dt</th>\n",
       "      <td id=\"T_069ba_row10_col0\" class=\"data row10 col0\" >Decision Tree Classifier</td>\n",
       "      <td id=\"T_069ba_row10_col1\" class=\"data row10 col1\" >0.7249</td>\n",
       "      <td id=\"T_069ba_row10_col2\" class=\"data row10 col2\" >0.6552</td>\n",
       "      <td id=\"T_069ba_row10_col3\" class=\"data row10 col3\" >0.7249</td>\n",
       "      <td id=\"T_069ba_row10_col4\" class=\"data row10 col4\" >0.7255</td>\n",
       "      <td id=\"T_069ba_row10_col5\" class=\"data row10 col5\" >0.7249</td>\n",
       "      <td id=\"T_069ba_row10_col6\" class=\"data row10 col6\" >0.2950</td>\n",
       "      <td id=\"T_069ba_row10_col7\" class=\"data row10 col7\" >0.2955</td>\n",
       "      <td id=\"T_069ba_row10_col8\" class=\"data row10 col8\" >0.0390</td>\n",
       "    </tr>\n",
       "    <tr>\n",
       "      <th id=\"T_069ba_level0_row11\" class=\"row_heading level0 row11\" >nb</th>\n",
       "      <td id=\"T_069ba_row11_col0\" class=\"data row11 col0\" >Naive Bayes</td>\n",
       "      <td id=\"T_069ba_row11_col1\" class=\"data row11 col1\" >0.6832</td>\n",
       "      <td id=\"T_069ba_row11_col2\" class=\"data row11 col2\" >0.8124</td>\n",
       "      <td id=\"T_069ba_row11_col3\" class=\"data row11 col3\" >0.6832</td>\n",
       "      <td id=\"T_069ba_row11_col4\" class=\"data row11 col4\" >0.7941</td>\n",
       "      <td id=\"T_069ba_row11_col5\" class=\"data row11 col5\" >0.7016</td>\n",
       "      <td id=\"T_069ba_row11_col6\" class=\"data row11 col6\" >0.3670</td>\n",
       "      <td id=\"T_069ba_row11_col7\" class=\"data row11 col7\" >0.4161</td>\n",
       "      <td id=\"T_069ba_row11_col8\" class=\"data row11 col8\" >0.0370</td>\n",
       "    </tr>\n",
       "    <tr>\n",
       "      <th id=\"T_069ba_level0_row12\" class=\"row_heading level0 row12\" >svm</th>\n",
       "      <td id=\"T_069ba_row12_col0\" class=\"data row12 col0\" >SVM - Linear Kernel</td>\n",
       "      <td id=\"T_069ba_row12_col1\" class=\"data row12 col1\" >0.6185</td>\n",
       "      <td id=\"T_069ba_row12_col2\" class=\"data row12 col2\" >0.0000</td>\n",
       "      <td id=\"T_069ba_row12_col3\" class=\"data row12 col3\" >0.6185</td>\n",
       "      <td id=\"T_069ba_row12_col4\" class=\"data row12 col4\" >0.7658</td>\n",
       "      <td id=\"T_069ba_row12_col5\" class=\"data row12 col5\" >0.6004</td>\n",
       "      <td id=\"T_069ba_row12_col6\" class=\"data row12 col6\" >0.2312</td>\n",
       "      <td id=\"T_069ba_row12_col7\" class=\"data row12 col7\" >0.2917</td>\n",
       "      <td id=\"T_069ba_row12_col8\" class=\"data row12 col8\" >0.0450</td>\n",
       "    </tr>\n",
       "    <tr>\n",
       "      <th id=\"T_069ba_level0_row13\" class=\"row_heading level0 row13\" >qda</th>\n",
       "      <td id=\"T_069ba_row13_col0\" class=\"data row13 col0\" >Quadratic Discriminant Analysis</td>\n",
       "      <td id=\"T_069ba_row13_col1\" class=\"data row13 col1\" >0.6099</td>\n",
       "      <td id=\"T_069ba_row13_col2\" class=\"data row13 col2\" >0.6620</td>\n",
       "      <td id=\"T_069ba_row13_col3\" class=\"data row13 col3\" >0.6099</td>\n",
       "      <td id=\"T_069ba_row13_col4\" class=\"data row13 col4\" >0.7082</td>\n",
       "      <td id=\"T_069ba_row13_col5\" class=\"data row13 col5\" >0.5985</td>\n",
       "      <td id=\"T_069ba_row13_col6\" class=\"data row13 col6\" >0.1748</td>\n",
       "      <td id=\"T_069ba_row13_col7\" class=\"data row13 col7\" >0.2055</td>\n",
       "      <td id=\"T_069ba_row13_col8\" class=\"data row13 col8\" >0.0400</td>\n",
       "    </tr>\n",
       "  </tbody>\n",
       "</table>\n"
      ],
      "text/plain": [
       "<pandas.io.formats.style.Styler at 0x156581b50>"
      ]
     },
     "metadata": {},
     "output_type": "display_data"
    },
    {
     "data": {
      "text/html": [],
      "text/plain": [
       "<IPython.core.display.HTML object>"
      ]
     },
     "metadata": {},
     "output_type": "display_data"
    }
   ],
   "source": [
    "best_model = compare_models()"
   ]
  },
  {
   "cell_type": "markdown",
   "id": "4cac3b50",
   "metadata": {},
   "source": [
    "From the comperssions the best sutable modele is logestic regression for this dataset"
   ]
  },
  {
   "cell_type": "code",
   "execution_count": 30,
   "id": "39a2ae82",
   "metadata": {},
   "outputs": [
    {
     "data": {
      "text/html": [
       "<style>#sk-container-id-2 {color: black;background-color: white;}#sk-container-id-2 pre{padding: 0;}#sk-container-id-2 div.sk-toggleable {background-color: white;}#sk-container-id-2 label.sk-toggleable__label {cursor: pointer;display: block;width: 100%;margin-bottom: 0;padding: 0.3em;box-sizing: border-box;text-align: center;}#sk-container-id-2 label.sk-toggleable__label-arrow:before {content: \"▸\";float: left;margin-right: 0.25em;color: #696969;}#sk-container-id-2 label.sk-toggleable__label-arrow:hover:before {color: black;}#sk-container-id-2 div.sk-estimator:hover label.sk-toggleable__label-arrow:before {color: black;}#sk-container-id-2 div.sk-toggleable__content {max-height: 0;max-width: 0;overflow: hidden;text-align: left;background-color: #f0f8ff;}#sk-container-id-2 div.sk-toggleable__content pre {margin: 0.2em;color: black;border-radius: 0.25em;background-color: #f0f8ff;}#sk-container-id-2 input.sk-toggleable__control:checked~div.sk-toggleable__content {max-height: 200px;max-width: 100%;overflow: auto;}#sk-container-id-2 input.sk-toggleable__control:checked~label.sk-toggleable__label-arrow:before {content: \"▾\";}#sk-container-id-2 div.sk-estimator input.sk-toggleable__control:checked~label.sk-toggleable__label {background-color: #d4ebff;}#sk-container-id-2 div.sk-label input.sk-toggleable__control:checked~label.sk-toggleable__label {background-color: #d4ebff;}#sk-container-id-2 input.sk-hidden--visually {border: 0;clip: rect(1px 1px 1px 1px);clip: rect(1px, 1px, 1px, 1px);height: 1px;margin: -1px;overflow: hidden;padding: 0;position: absolute;width: 1px;}#sk-container-id-2 div.sk-estimator {font-family: monospace;background-color: #f0f8ff;border: 1px dotted black;border-radius: 0.25em;box-sizing: border-box;margin-bottom: 0.5em;}#sk-container-id-2 div.sk-estimator:hover {background-color: #d4ebff;}#sk-container-id-2 div.sk-parallel-item::after {content: \"\";width: 100%;border-bottom: 1px solid gray;flex-grow: 1;}#sk-container-id-2 div.sk-label:hover label.sk-toggleable__label {background-color: #d4ebff;}#sk-container-id-2 div.sk-serial::before {content: \"\";position: absolute;border-left: 1px solid gray;box-sizing: border-box;top: 0;bottom: 0;left: 50%;z-index: 0;}#sk-container-id-2 div.sk-serial {display: flex;flex-direction: column;align-items: center;background-color: white;padding-right: 0.2em;padding-left: 0.2em;position: relative;}#sk-container-id-2 div.sk-item {position: relative;z-index: 1;}#sk-container-id-2 div.sk-parallel {display: flex;align-items: stretch;justify-content: center;background-color: white;position: relative;}#sk-container-id-2 div.sk-item::before, #sk-container-id-2 div.sk-parallel-item::before {content: \"\";position: absolute;border-left: 1px solid gray;box-sizing: border-box;top: 0;bottom: 0;left: 50%;z-index: -1;}#sk-container-id-2 div.sk-parallel-item {display: flex;flex-direction: column;z-index: 1;position: relative;background-color: white;}#sk-container-id-2 div.sk-parallel-item:first-child::after {align-self: flex-end;width: 50%;}#sk-container-id-2 div.sk-parallel-item:last-child::after {align-self: flex-start;width: 50%;}#sk-container-id-2 div.sk-parallel-item:only-child::after {width: 0;}#sk-container-id-2 div.sk-dashed-wrapped {border: 1px dashed gray;margin: 0 0.4em 0.5em 0.4em;box-sizing: border-box;padding-bottom: 0.4em;background-color: white;}#sk-container-id-2 div.sk-label label {font-family: monospace;font-weight: bold;display: inline-block;line-height: 1.2em;}#sk-container-id-2 div.sk-label-container {text-align: center;}#sk-container-id-2 div.sk-container {/* jupyter's `normalize.less` sets `[hidden] { display: none; }` but bootstrap.min.css set `[hidden] { display: none !important; }` so we also need the `!important` here to be able to override the default hidden behavior on the sphinx rendered scikit-learn.org. See: https://github.com/scikit-learn/scikit-learn/issues/21755 */display: inline-block !important;position: relative;}#sk-container-id-2 div.sk-text-repr-fallback {display: none;}</style><div id=\"sk-container-id-2\" class=\"sk-top-container\"><div class=\"sk-text-repr-fallback\"><pre>LogisticRegression(C=1.0, class_weight=None, dual=False, fit_intercept=True,\n",
       "                   intercept_scaling=1, l1_ratio=None, max_iter=1000,\n",
       "                   multi_class=&#x27;auto&#x27;, n_jobs=None, penalty=&#x27;l2&#x27;,\n",
       "                   random_state=3611, solver=&#x27;lbfgs&#x27;, tol=0.0001, verbose=0,\n",
       "                   warm_start=False)</pre><b>In a Jupyter environment, please rerun this cell to show the HTML representation or trust the notebook. <br />On GitHub, the HTML representation is unable to render, please try loading this page with nbviewer.org.</b></div><div class=\"sk-container\" hidden><div class=\"sk-item\"><div class=\"sk-estimator sk-toggleable\"><input class=\"sk-toggleable__control sk-hidden--visually\" id=\"sk-estimator-id-2\" type=\"checkbox\" checked><label for=\"sk-estimator-id-2\" class=\"sk-toggleable__label sk-toggleable__label-arrow\">LogisticRegression</label><div class=\"sk-toggleable__content\"><pre>LogisticRegression(C=1.0, class_weight=None, dual=False, fit_intercept=True,\n",
       "                   intercept_scaling=1, l1_ratio=None, max_iter=1000,\n",
       "                   multi_class=&#x27;auto&#x27;, n_jobs=None, penalty=&#x27;l2&#x27;,\n",
       "                   random_state=3611, solver=&#x27;lbfgs&#x27;, tol=0.0001, verbose=0,\n",
       "                   warm_start=False)</pre></div></div></div></div></div>"
      ],
      "text/plain": [
       "LogisticRegression(C=1.0, class_weight=None, dual=False, fit_intercept=True,\n",
       "                   intercept_scaling=1, l1_ratio=None, max_iter=1000,\n",
       "                   multi_class='auto', n_jobs=None, penalty='l2',\n",
       "                   random_state=3611, solver='lbfgs', tol=0.0001, verbose=0,\n",
       "                   warm_start=False)"
      ]
     },
     "execution_count": 30,
     "metadata": {},
     "output_type": "execute_result"
    }
   ],
   "source": [
    "best_model"
   ]
  },
  {
   "cell_type": "code",
   "execution_count": 31,
   "id": "436e55c0",
   "metadata": {},
   "outputs": [
    {
     "data": {
      "text/html": [
       "<div>\n",
       "<style scoped>\n",
       "    .dataframe tbody tr th:only-of-type {\n",
       "        vertical-align: middle;\n",
       "    }\n",
       "\n",
       "    .dataframe tbody tr th {\n",
       "        vertical-align: top;\n",
       "    }\n",
       "\n",
       "    .dataframe thead th {\n",
       "        text-align: right;\n",
       "    }\n",
       "</style>\n",
       "<table border=\"1\" class=\"dataframe\">\n",
       "  <thead>\n",
       "    <tr style=\"text-align: right;\">\n",
       "      <th></th>\n",
       "      <th>tenure</th>\n",
       "      <th>PhoneService</th>\n",
       "      <th>Contract</th>\n",
       "      <th>PaymentMethod</th>\n",
       "      <th>MonthlyCharges</th>\n",
       "      <th>TotalCharges</th>\n",
       "      <th>Churn</th>\n",
       "    </tr>\n",
       "    <tr>\n",
       "      <th>customerID</th>\n",
       "      <th></th>\n",
       "      <th></th>\n",
       "      <th></th>\n",
       "      <th></th>\n",
       "      <th></th>\n",
       "      <th></th>\n",
       "      <th></th>\n",
       "    </tr>\n",
       "  </thead>\n",
       "  <tbody>\n",
       "    <tr>\n",
       "      <th>8361-LTMKD</th>\n",
       "      <td>4</td>\n",
       "      <td>Yes</td>\n",
       "      <td>Month-to-month</td>\n",
       "      <td>Mailed check</td>\n",
       "      <td>74.4</td>\n",
       "      <td>306.6</td>\n",
       "      <td>Yes</td>\n",
       "    </tr>\n",
       "  </tbody>\n",
       "</table>\n",
       "</div>"
      ],
      "text/plain": [
       "            tenure PhoneService        Contract PaymentMethod  MonthlyCharges  \\\n",
       "customerID                                                                      \n",
       "8361-LTMKD       4          Yes  Month-to-month  Mailed check            74.4   \n",
       "\n",
       "            TotalCharges Churn  \n",
       "customerID                      \n",
       "8361-LTMKD         306.6   Yes  "
      ]
     },
     "execution_count": 31,
     "metadata": {},
     "output_type": "execute_result"
    }
   ],
   "source": [
    "df.iloc[-2:-1]"
   ]
  },
  {
   "cell_type": "markdown",
   "id": "bc16df19",
   "metadata": {},
   "source": [
    "We are selecting the last row, but using the indexing `[-2:-1]` to make it a 2D array instead of 1D (which throws an error). Try running `df.iloc[-1].shape` and `df.iloc[-2:-1].shape` to see how they differ.\n",
    "\n",
    "However, this only works if we set `preprocess=False` in our setup function. Otherwise the order of features may be different\n",
    "\n",
    "A more robust way (in case we are using preprocessing with autoML) is to use pycaret's predict_model function:"
   ]
  },
  {
   "cell_type": "code",
   "execution_count": 32,
   "id": "aad56033",
   "metadata": {},
   "outputs": [
    {
     "data": {
      "text/html": [
       "<style type=\"text/css\">\n",
       "</style>\n",
       "<table id=\"T_c4619\">\n",
       "  <thead>\n",
       "    <tr>\n",
       "      <th class=\"blank level0\" >&nbsp;</th>\n",
       "      <th id=\"T_c4619_level0_col0\" class=\"col_heading level0 col0\" >Model</th>\n",
       "      <th id=\"T_c4619_level0_col1\" class=\"col_heading level0 col1\" >Accuracy</th>\n",
       "      <th id=\"T_c4619_level0_col2\" class=\"col_heading level0 col2\" >AUC</th>\n",
       "      <th id=\"T_c4619_level0_col3\" class=\"col_heading level0 col3\" >Recall</th>\n",
       "      <th id=\"T_c4619_level0_col4\" class=\"col_heading level0 col4\" >Prec.</th>\n",
       "      <th id=\"T_c4619_level0_col5\" class=\"col_heading level0 col5\" >F1</th>\n",
       "      <th id=\"T_c4619_level0_col6\" class=\"col_heading level0 col6\" >Kappa</th>\n",
       "      <th id=\"T_c4619_level0_col7\" class=\"col_heading level0 col7\" >MCC</th>\n",
       "    </tr>\n",
       "  </thead>\n",
       "  <tbody>\n",
       "    <tr>\n",
       "      <th id=\"T_c4619_level0_row0\" class=\"row_heading level0 row0\" >0</th>\n",
       "      <td id=\"T_c4619_row0_col0\" class=\"data row0 col0\" >Logistic Regression</td>\n",
       "      <td id=\"T_c4619_row0_col1\" class=\"data row0 col1\" >0.0000</td>\n",
       "      <td id=\"T_c4619_row0_col2\" class=\"data row0 col2\" >0</td>\n",
       "      <td id=\"T_c4619_row0_col3\" class=\"data row0 col3\" >0.0000</td>\n",
       "      <td id=\"T_c4619_row0_col4\" class=\"data row0 col4\" >0.0000</td>\n",
       "      <td id=\"T_c4619_row0_col5\" class=\"data row0 col5\" >0.0000</td>\n",
       "      <td id=\"T_c4619_row0_col6\" class=\"data row0 col6\" >0.0000</td>\n",
       "      <td id=\"T_c4619_row0_col7\" class=\"data row0 col7\" >0.0000</td>\n",
       "    </tr>\n",
       "  </tbody>\n",
       "</table>\n"
      ],
      "text/plain": [
       "<pandas.io.formats.style.Styler at 0x158c73990>"
      ]
     },
     "metadata": {},
     "output_type": "display_data"
    },
    {
     "data": {
      "text/html": [
       "<div>\n",
       "<style scoped>\n",
       "    .dataframe tbody tr th:only-of-type {\n",
       "        vertical-align: middle;\n",
       "    }\n",
       "\n",
       "    .dataframe tbody tr th {\n",
       "        vertical-align: top;\n",
       "    }\n",
       "\n",
       "    .dataframe thead th {\n",
       "        text-align: right;\n",
       "    }\n",
       "</style>\n",
       "<table border=\"1\" class=\"dataframe\">\n",
       "  <thead>\n",
       "    <tr style=\"text-align: right;\">\n",
       "      <th></th>\n",
       "      <th>tenure</th>\n",
       "      <th>PhoneService</th>\n",
       "      <th>Contract</th>\n",
       "      <th>PaymentMethod</th>\n",
       "      <th>MonthlyCharges</th>\n",
       "      <th>TotalCharges</th>\n",
       "      <th>Churn</th>\n",
       "      <th>prediction_label</th>\n",
       "      <th>prediction_score</th>\n",
       "    </tr>\n",
       "    <tr>\n",
       "      <th>customerID</th>\n",
       "      <th></th>\n",
       "      <th></th>\n",
       "      <th></th>\n",
       "      <th></th>\n",
       "      <th></th>\n",
       "      <th></th>\n",
       "      <th></th>\n",
       "      <th></th>\n",
       "      <th></th>\n",
       "    </tr>\n",
       "  </thead>\n",
       "  <tbody>\n",
       "    <tr>\n",
       "      <th>8361-LTMKD</th>\n",
       "      <td>4</td>\n",
       "      <td>Yes</td>\n",
       "      <td>Month-to-month</td>\n",
       "      <td>Mailed check</td>\n",
       "      <td>74.400002</td>\n",
       "      <td>306.600006</td>\n",
       "      <td>Yes</td>\n",
       "      <td>No</td>\n",
       "      <td>0.5077</td>\n",
       "    </tr>\n",
       "  </tbody>\n",
       "</table>\n",
       "</div>"
      ],
      "text/plain": [
       "            tenure PhoneService        Contract PaymentMethod  MonthlyCharges  \\\n",
       "customerID                                                                      \n",
       "8361-LTMKD       4          Yes  Month-to-month  Mailed check       74.400002   \n",
       "\n",
       "            TotalCharges Churn prediction_label  prediction_score  \n",
       "customerID                                                         \n",
       "8361-LTMKD    306.600006   Yes               No            0.5077  "
      ]
     },
     "execution_count": 32,
     "metadata": {},
     "output_type": "execute_result"
    }
   ],
   "source": [
    "predict_model(best_model, df.iloc[-2:-1])\n"
   ]
  },
  {
   "cell_type": "code",
   "execution_count": 68,
   "id": "95b81682",
   "metadata": {},
   "outputs": [
    {
     "data": {
      "text/html": [],
      "text/plain": [
       "<IPython.core.display.HTML object>"
      ]
     },
     "metadata": {},
     "output_type": "display_data"
    },
    {
     "data": {
      "image/png": "[encoded data removed]",
      "text/plain": [
       "<Figure size 800x550 with 1 Axes>"
      ]
     },
     "metadata": {},
     "output_type": "display_data"
    },
    {
     "data": {
      "text/html": [],
      "text/plain": [
       "<IPython.core.display.HTML object>"
      ]
     },
     "metadata": {},
     "output_type": "display_data"
    },
    {
     "data": {
      "image/png": "[encoded data removed]",
      "text/plain": [
       "<Figure size 800x550 with 1 Axes>"
      ]
     },
     "metadata": {},
     "output_type": "display_data"
    }
   ],
   "source": [
    "# Plot ROC-AUC curve\n",
    "plot_model(best_model, plot='auc')\n",
    "\n",
    "# Plot Precision-Recall curve\n",
    "plot_model(best_model, plot='pr')\n"
   ]
  },
  {
   "cell_type": "markdown",
   "id": "89f15c9b",
   "metadata": {},
   "source": [
    "In the above above graph, the precision is maxed slight above 0.8 when recall value is between 0 to 0.2, in the second graph we can see precision is 0.6 is minimum at recall at 0.5."
   ]
  },
  {
   "cell_type": "markdown",
   "id": "15c17110",
   "metadata": {},
   "source": [
    "## Saving and loading our model"
   ]
  },
  {
   "cell_type": "markdown",
   "id": "cd47095f",
   "metadata": {},
   "source": [
    "Next, we want to save our trained model so we can use it in a Python file later. pycaret has a handy function for this, which saves the model as a pickle file:"
   ]
  },
  {
   "cell_type": "code",
   "execution_count": 33,
   "id": "06e141c0",
   "metadata": {},
   "outputs": [
    {
     "name": "stdout",
     "output_type": "stream",
     "text": [
      "Transformation Pipeline and Model Successfully Saved\n"
     ]
    },
    {
     "data": {
      "text/plain": [
       "(Pipeline(memory=Memory(location=None),\n",
       "          steps=[('label_encoding',\n",
       "                  TransformerWrapperWithInverse(exclude=None, include=None,\n",
       "                                                transformer=LabelEncoder())),\n",
       "                 ('numerical_imputer',\n",
       "                  TransformerWrapper(exclude=None,\n",
       "                                     include=['tenure', 'MonthlyCharges',\n",
       "                                              'TotalCharges'],\n",
       "                                     transformer=SimpleImputer(add_indicator=False,\n",
       "                                                               copy=True,\n",
       "                                                               fill_value=None,\n",
       "                                                               keep_empty_features=False,...\n",
       "                                                               handle_missing='return_nan',\n",
       "                                                               handle_unknown='value',\n",
       "                                                               return_df=True,\n",
       "                                                               use_cat_names=True,\n",
       "                                                               verbose=0))),\n",
       "                 ('trained_model',\n",
       "                  LogisticRegression(C=1.0, class_weight=None, dual=False,\n",
       "                                     fit_intercept=True, intercept_scaling=1,\n",
       "                                     l1_ratio=None, max_iter=1000,\n",
       "                                     multi_class='auto', n_jobs=None,\n",
       "                                     penalty='l2', random_state=3611,\n",
       "                                     solver='lbfgs', tol=0.0001, verbose=0,\n",
       "                                     warm_start=False))],\n",
       "          verbose=False),\n",
       " 'lr.pkl')"
      ]
     },
     "execution_count": 33,
     "metadata": {},
     "output_type": "execute_result"
    }
   ],
   "source": [
    "save_model(best_model, 'lr')"
   ]
  },
  {
   "cell_type": "markdown",
   "id": "7fd82a3c",
   "metadata": {},
   "source": [
    "we have recived the best model and implemented as to my system"
   ]
  },
  {
   "cell_type": "code",
   "execution_count": 34,
   "id": "09c7316a",
   "metadata": {},
   "outputs": [],
   "source": [
    "import pickle\n",
    "with open('lr.pkl', 'wb') as f:\n",
    "    pickle.dump(best_model, f)"
   ]
  },
  {
   "cell_type": "markdown",
   "id": "e3ac2785",
   "metadata": {},
   "source": [
    "Using the built-in open function, we first open a file called LDA_model.pk for writing ('w'), and then we open it in a binary format ('b'). The file object is saved in the variable f. After we end the with statement, the with statement automatically closes the file; if not, we should use the function close from the file object f. Next, pickle is used to save our data in the file. We could put it back in."
   ]
  },
  {
   "cell_type": "code",
   "execution_count": 35,
   "id": "f25e8e38",
   "metadata": {},
   "outputs": [],
   "source": [
    "with open('lr.pkl', 'rb') as f:\n",
    "    loaded_model = pickle.load(f)"
   ]
  },
  {
   "cell_type": "markdown",
   "id": "406337ca",
   "metadata": {},
   "source": [
    "It loads almost exactly the same, with the exception that pickle's load function is used and `rb} is used to \"read binary\".\n"
   ]
  },
  {
   "cell_type": "code",
   "execution_count": 37,
   "id": "80efdb88",
   "metadata": {},
   "outputs": [
    {
     "name": "stdout",
     "output_type": "stream",
     "text": [
      "Transformation Pipeline and Model Successfully Loaded\n"
     ]
    }
   ],
   "source": [
    "loaded_lr = load_model('lr')"
   ]
  },
  {
   "cell_type": "code",
   "execution_count": 38,
   "id": "a0e44e87",
   "metadata": {},
   "outputs": [],
   "source": [
    "new_data=df.iloc[-2:-1]"
   ]
  },
  {
   "cell_type": "code",
   "execution_count": 39,
   "id": "ddef15cd",
   "metadata": {},
   "outputs": [
    {
     "data": {
      "text/html": [
       "<style type=\"text/css\">\n",
       "</style>\n",
       "<table id=\"T_0fa64\">\n",
       "  <thead>\n",
       "    <tr>\n",
       "      <th class=\"blank level0\" >&nbsp;</th>\n",
       "      <th id=\"T_0fa64_level0_col0\" class=\"col_heading level0 col0\" >Model</th>\n",
       "      <th id=\"T_0fa64_level0_col1\" class=\"col_heading level0 col1\" >Accuracy</th>\n",
       "      <th id=\"T_0fa64_level0_col2\" class=\"col_heading level0 col2\" >AUC</th>\n",
       "      <th id=\"T_0fa64_level0_col3\" class=\"col_heading level0 col3\" >Recall</th>\n",
       "      <th id=\"T_0fa64_level0_col4\" class=\"col_heading level0 col4\" >Prec.</th>\n",
       "      <th id=\"T_0fa64_level0_col5\" class=\"col_heading level0 col5\" >F1</th>\n",
       "      <th id=\"T_0fa64_level0_col6\" class=\"col_heading level0 col6\" >Kappa</th>\n",
       "      <th id=\"T_0fa64_level0_col7\" class=\"col_heading level0 col7\" >MCC</th>\n",
       "    </tr>\n",
       "  </thead>\n",
       "  <tbody>\n",
       "    <tr>\n",
       "      <th id=\"T_0fa64_level0_row0\" class=\"row_heading level0 row0\" >0</th>\n",
       "      <td id=\"T_0fa64_row0_col0\" class=\"data row0 col0\" >Logistic Regression</td>\n",
       "      <td id=\"T_0fa64_row0_col1\" class=\"data row0 col1\" >0.0000</td>\n",
       "      <td id=\"T_0fa64_row0_col2\" class=\"data row0 col2\" >0</td>\n",
       "      <td id=\"T_0fa64_row0_col3\" class=\"data row0 col3\" >0.0000</td>\n",
       "      <td id=\"T_0fa64_row0_col4\" class=\"data row0 col4\" >0.0000</td>\n",
       "      <td id=\"T_0fa64_row0_col5\" class=\"data row0 col5\" >0.0000</td>\n",
       "      <td id=\"T_0fa64_row0_col6\" class=\"data row0 col6\" >0.0000</td>\n",
       "      <td id=\"T_0fa64_row0_col7\" class=\"data row0 col7\" >0.0000</td>\n",
       "    </tr>\n",
       "  </tbody>\n",
       "</table>\n"
      ],
      "text/plain": [
       "<pandas.io.formats.style.Styler at 0x15b13ba50>"
      ]
     },
     "metadata": {},
     "output_type": "display_data"
    },
    {
     "data": {
      "text/html": [
       "<div>\n",
       "<style scoped>\n",
       "    .dataframe tbody tr th:only-of-type {\n",
       "        vertical-align: middle;\n",
       "    }\n",
       "\n",
       "    .dataframe tbody tr th {\n",
       "        vertical-align: top;\n",
       "    }\n",
       "\n",
       "    .dataframe thead th {\n",
       "        text-align: right;\n",
       "    }\n",
       "</style>\n",
       "<table border=\"1\" class=\"dataframe\">\n",
       "  <thead>\n",
       "    <tr style=\"text-align: right;\">\n",
       "      <th></th>\n",
       "      <th>tenure</th>\n",
       "      <th>PhoneService</th>\n",
       "      <th>Contract</th>\n",
       "      <th>PaymentMethod</th>\n",
       "      <th>MonthlyCharges</th>\n",
       "      <th>TotalCharges</th>\n",
       "      <th>Churn</th>\n",
       "      <th>prediction_label</th>\n",
       "      <th>prediction_score</th>\n",
       "    </tr>\n",
       "    <tr>\n",
       "      <th>customerID</th>\n",
       "      <th></th>\n",
       "      <th></th>\n",
       "      <th></th>\n",
       "      <th></th>\n",
       "      <th></th>\n",
       "      <th></th>\n",
       "      <th></th>\n",
       "      <th></th>\n",
       "      <th></th>\n",
       "    </tr>\n",
       "  </thead>\n",
       "  <tbody>\n",
       "    <tr>\n",
       "      <th>8361-LTMKD</th>\n",
       "      <td>4</td>\n",
       "      <td>Yes</td>\n",
       "      <td>Month-to-month</td>\n",
       "      <td>Mailed check</td>\n",
       "      <td>74.400002</td>\n",
       "      <td>306.600006</td>\n",
       "      <td>Yes</td>\n",
       "      <td>No</td>\n",
       "      <td>0.5077</td>\n",
       "    </tr>\n",
       "  </tbody>\n",
       "</table>\n",
       "</div>"
      ],
      "text/plain": [
       "            tenure PhoneService        Contract PaymentMethod  MonthlyCharges  \\\n",
       "customerID                                                                      \n",
       "8361-LTMKD       4          Yes  Month-to-month  Mailed check       74.400002   \n",
       "\n",
       "            TotalCharges Churn prediction_label  prediction_score  \n",
       "customerID                                                         \n",
       "8361-LTMKD    306.600006   Yes               No            0.5077  "
      ]
     },
     "execution_count": 39,
     "metadata": {},
     "output_type": "execute_result"
    }
   ],
   "source": [
    "predict_model(loaded_lr, new_data)"
   ]
  },
  {
   "cell_type": "markdown",
   "id": "341db760",
   "metadata": {},
   "source": [
    "# Making a Python module to make predictions"
   ]
  },
  {
   "cell_type": "code",
   "execution_count": 69,
   "id": "10d50cb3",
   "metadata": {},
   "outputs": [
    {
     "data": {
      "text/html": [
       "<style>pre { line-height: 125%; }\n",
       "td.linenos .normal { color: inherit; background-color: transparent; padding-left: 5px; padding-right: 5px; }\n",
       "span.linenos { color: inherit; background-color: transparent; padding-left: 5px; padding-right: 5px; }\n",
       "td.linenos .special { color: #000000; background-color: #ffffc0; padding-left: 5px; padding-right: 5px; }\n",
       "span.linenos.special { color: #000000; background-color: #ffffc0; padding-left: 5px; padding-right: 5px; }\n",
       ".output_html .hll { background-color: #ffffcc }\n",
       ".output_html { background: #f8f8f8; }\n",
       ".output_html .c { color: #3D7B7B; font-style: italic } /* Comment */\n",
       ".output_html .err { border: 1px solid #FF0000 } /* Error */\n",
       ".output_html .k { color: #008000; font-weight: bold } /* Keyword */\n",
       ".output_html .o { color: #666666 } /* Operator */\n",
       ".output_html .ch { color: #3D7B7B; font-style: italic } /* Comment.Hashbang */\n",
       ".output_html .cm { color: #3D7B7B; font-style: italic } /* Comment.Multiline */\n",
       ".output_html .cp { color: #9C6500 } /* Comment.Preproc */\n",
       ".output_html .cpf { color: #3D7B7B; font-style: italic } /* Comment.PreprocFile */\n",
       ".output_html .c1 { color: #3D7B7B; font-style: italic } /* Comment.Single */\n",
       ".output_html .cs { color: #3D7B7B; font-style: italic } /* Comment.Special */\n",
       ".output_html .gd { color: #A00000 } /* Generic.Deleted */\n",
       ".output_html .ge { font-style: italic } /* Generic.Emph */\n",
       ".output_html .gr { color: #E40000 } /* Generic.Error */\n",
       ".output_html .gh { color: #000080; font-weight: bold } /* Generic.Heading */\n",
       ".output_html .gi { color: #008400 } /* Generic.Inserted */\n",
       ".output_html .go { color: #717171 } /* Generic.Output */\n",
       ".output_html .gp { color: #000080; font-weight: bold } /* Generic.Prompt */\n",
       ".output_html .gs { font-weight: bold } /* Generic.Strong */\n",
       ".output_html .gu { color: #800080; font-weight: bold } /* Generic.Subheading */\n",
       ".output_html .gt { color: #0044DD } /* Generic.Traceback */\n",
       ".output_html .kc { color: #008000; font-weight: bold } /* Keyword.Constant */\n",
       ".output_html .kd { color: #008000; font-weight: bold } /* Keyword.Declaration */\n",
       ".output_html .kn { color: #008000; font-weight: bold } /* Keyword.Namespace */\n",
       ".output_html .kp { color: #008000 } /* Keyword.Pseudo */\n",
       ".output_html .kr { color: #008000; font-weight: bold } /* Keyword.Reserved */\n",
       ".output_html .kt { color: #B00040 } /* Keyword.Type */\n",
       ".output_html .m { color: #666666 } /* Literal.Number */\n",
       ".output_html .s { color: #BA2121 } /* Literal.String */\n",
       ".output_html .na { color: #687822 } /* Name.Attribute */\n",
       ".output_html .nb { color: #008000 } /* Name.Builtin */\n",
       ".output_html .nc { color: #0000FF; font-weight: bold } /* Name.Class */\n",
       ".output_html .no { color: #880000 } /* Name.Constant */\n",
       ".output_html .nd { color: #AA22FF } /* Name.Decorator */\n",
       ".output_html .ni { color: #717171; font-weight: bold } /* Name.Entity */\n",
       ".output_html .ne { color: #CB3F38; font-weight: bold } /* Name.Exception */\n",
       ".output_html .nf { color: #0000FF } /* Name.Function */\n",
       ".output_html .nl { color: #767600 } /* Name.Label */\n",
       ".output_html .nn { color: #0000FF; font-weight: bold } /* Name.Namespace */\n",
       ".output_html .nt { color: #008000; font-weight: bold } /* Name.Tag */\n",
       ".output_html .nv { color: #19177C } /* Name.Variable */\n",
       ".output_html .ow { color: #AA22FF; font-weight: bold } /* Operator.Word */\n",
       ".output_html .w { color: #bbbbbb } /* Text.Whitespace */\n",
       ".output_html .mb { color: #666666 } /* Literal.Number.Bin */\n",
       ".output_html .mf { color: #666666 } /* Literal.Number.Float */\n",
       ".output_html .mh { color: #666666 } /* Literal.Number.Hex */\n",
       ".output_html .mi { color: #666666 } /* Literal.Number.Integer */\n",
       ".output_html .mo { color: #666666 } /* Literal.Number.Oct */\n",
       ".output_html .sa { color: #BA2121 } /* Literal.String.Affix */\n",
       ".output_html .sb { color: #BA2121 } /* Literal.String.Backtick */\n",
       ".output_html .sc { color: #BA2121 } /* Literal.String.Char */\n",
       ".output_html .dl { color: #BA2121 } /* Literal.String.Delimiter */\n",
       ".output_html .sd { color: #BA2121; font-style: italic } /* Literal.String.Doc */\n",
       ".output_html .s2 { color: #BA2121 } /* Literal.String.Double */\n",
       ".output_html .se { color: #AA5D1F; font-weight: bold } /* Literal.String.Escape */\n",
       ".output_html .sh { color: #BA2121 } /* Literal.String.Heredoc */\n",
       ".output_html .si { color: #A45A77; font-weight: bold } /* Literal.String.Interpol */\n",
       ".output_html .sx { color: #008000 } /* Literal.String.Other */\n",
       ".output_html .sr { color: #A45A77 } /* Literal.String.Regex */\n",
       ".output_html .s1 { color: #BA2121 } /* Literal.String.Single */\n",
       ".output_html .ss { color: #19177C } /* Literal.String.Symbol */\n",
       ".output_html .bp { color: #008000 } /* Name.Builtin.Pseudo */\n",
       ".output_html .fm { color: #0000FF } /* Name.Function.Magic */\n",
       ".output_html .vc { color: #19177C } /* Name.Variable.Class */\n",
       ".output_html .vg { color: #19177C } /* Name.Variable.Global */\n",
       ".output_html .vi { color: #19177C } /* Name.Variable.Instance */\n",
       ".output_html .vm { color: #19177C } /* Name.Variable.Magic */\n",
       ".output_html .il { color: #666666 } /* Literal.Number.Integer.Long */</style><div class=\"highlight\"><pre><span></span><span class=\"kn\">import</span> <span class=\"nn\">pandas</span> <span class=\"k\">as</span> <span class=\"nn\">pd</span>\n",
       "<span class=\"kn\">from</span> <span class=\"nn\">pycaret.classification</span> <span class=\"kn\">import</span> <span class=\"n\">predict_model</span><span class=\"p\">,</span> <span class=\"n\">load_model</span>\n",
       "\n",
       "<span class=\"k\">def</span> <span class=\"nf\">load_data</span><span class=\"p\">(</span><span class=\"n\">filepath</span><span class=\"p\">):</span>\n",
       "    <span class=\"n\">df</span> <span class=\"o\">=</span> <span class=\"n\">pd</span><span class=\"o\">.</span><span class=\"n\">read_csv</span><span class=\"p\">(</span><span class=\"n\">filepath</span><span class=\"p\">)</span>\n",
       "    <span class=\"k\">return</span> <span class=\"n\">df</span>\n",
       "\n",
       "\n",
       "<span class=\"k\">def</span> <span class=\"nf\">make_predictions</span><span class=\"p\">(</span><span class=\"n\">df</span><span class=\"p\">):</span>\n",
       "    <span class=\"n\">model</span> <span class=\"o\">=</span> <span class=\"n\">load_model</span><span class=\"p\">(</span><span class=\"s1\">&#39;lr&#39;</span><span class=\"p\">)</span>\n",
       "   \n",
       "    <span class=\"n\">predictions</span> <span class=\"o\">=</span> <span class=\"n\">predict_model</span><span class=\"p\">(</span><span class=\"n\">model</span><span class=\"p\">,</span> <span class=\"n\">data</span><span class=\"o\">=</span><span class=\"n\">df</span><span class=\"p\">)</span>\n",
       "    \n",
       "    <span class=\"n\">predictions</span><span class=\"o\">.</span><span class=\"n\">rename</span><span class=\"p\">({</span><span class=\"s1\">&#39;prediction_label&#39;</span><span class=\"p\">:</span><span class=\"s1\">&#39;Churn_prediction&#39;</span><span class=\"p\">},</span><span class=\"n\">axis</span><span class=\"o\">=</span><span class=\"mi\">1</span><span class=\"p\">,</span><span class=\"n\">inplace</span><span class=\"o\">=</span><span class=\"kc\">True</span><span class=\"p\">)</span>\n",
       "    <span class=\"n\">predictions</span><span class=\"p\">[</span><span class=\"s1\">&#39;Churn_prediction&#39;</span><span class=\"p\">]</span><span class=\"o\">.</span><span class=\"n\">replace</span><span class=\"p\">({</span><span class=\"s1\">&#39;Yes&#39;</span><span class=\"p\">:</span><span class=\"mi\">1</span><span class=\"p\">,</span><span class=\"s1\">&#39;No&#39;</span><span class=\"p\">:</span><span class=\"mi\">0</span><span class=\"p\">},</span><span class=\"n\">inplace</span><span class=\"o\">=</span><span class=\"kc\">True</span><span class=\"p\">)</span>\n",
       "    \n",
       "    \n",
       "    <span class=\"k\">return</span> <span class=\"n\">predictions</span><span class=\"p\">[</span><span class=\"s1\">&#39;Churn_prediction&#39;</span><span class=\"p\">]</span>\n",
       "\n",
       "<span class=\"k\">if</span> <span class=\"vm\">__name__</span> <span class=\"o\">==</span> <span class=\"s2\">&quot;__main__&quot;</span><span class=\"p\">:</span>\n",
       "    <span class=\"n\">df</span> <span class=\"o\">=</span> <span class=\"n\">load_data</span><span class=\"p\">(</span><span class=\"s2\">&quot;/Users/abhilashreddy/Desktop/weeek 5/new_churn_data.csv&quot;</span><span class=\"p\">)</span>\n",
       "    <span class=\"n\">predictions</span> <span class=\"o\">=</span> <span class=\"n\">make_predictions</span><span class=\"p\">(</span><span class=\"n\">df</span><span class=\"p\">)</span>\n",
       "    <span class=\"nb\">print</span><span class=\"p\">(</span><span class=\"s1\">&#39;predictions:&#39;</span><span class=\"p\">)</span>\n",
       "    <span class=\"nb\">print</span><span class=\"p\">(</span><span class=\"n\">predictions</span><span class=\"p\">)</span>\n",
       "</pre></div>\n"
      ],
      "text/latex": [
       "\\begin{Verbatim}[commandchars=\\\\\\{\\}]\n",
       "\\PY{k+kn}{import} \\PY{n+nn}{pandas} \\PY{k}{as} \\PY{n+nn}{pd}\n",
       "\\PY{k+kn}{from} \\PY{n+nn}{pycaret}\\PY{n+nn}{.}\\PY{n+nn}{classification} \\PY{k+kn}{import} \\PY{n}{predict\\PYZus{}model}\\PY{p}{,} \\PY{n}{load\\PYZus{}model}\n",
       "\n",
       "\\PY{k}{def} \\PY{n+nf}{load\\PYZus{}data}\\PY{p}{(}\\PY{n}{filepath}\\PY{p}{)}\\PY{p}{:}\n",
       "    \\PY{n}{df} \\PY{o}{=} \\PY{n}{pd}\\PY{o}{.}\\PY{n}{read\\PYZus{}csv}\\PY{p}{(}\\PY{n}{filepath}\\PY{p}{)}\n",
       "    \\PY{k}{return} \\PY{n}{df}\n",
       "\n",
       "\n",
       "\\PY{k}{def} \\PY{n+nf}{make\\PYZus{}predictions}\\PY{p}{(}\\PY{n}{df}\\PY{p}{)}\\PY{p}{:}\n",
       "    \\PY{n}{model} \\PY{o}{=} \\PY{n}{load\\PYZus{}model}\\PY{p}{(}\\PY{l+s+s1}{\\PYZsq{}}\\PY{l+s+s1}{lr}\\PY{l+s+s1}{\\PYZsq{}}\\PY{p}{)}\n",
       "   \n",
       "    \\PY{n}{predictions} \\PY{o}{=} \\PY{n}{predict\\PYZus{}model}\\PY{p}{(}\\PY{n}{model}\\PY{p}{,} \\PY{n}{data}\\PY{o}{=}\\PY{n}{df}\\PY{p}{)}\n",
       "    \n",
       "    \\PY{n}{predictions}\\PY{o}{.}\\PY{n}{rename}\\PY{p}{(}\\PY{p}{\\PYZob{}}\\PY{l+s+s1}{\\PYZsq{}}\\PY{l+s+s1}{prediction\\PYZus{}label}\\PY{l+s+s1}{\\PYZsq{}}\\PY{p}{:}\\PY{l+s+s1}{\\PYZsq{}}\\PY{l+s+s1}{Churn\\PYZus{}prediction}\\PY{l+s+s1}{\\PYZsq{}}\\PY{p}{\\PYZcb{}}\\PY{p}{,}\\PY{n}{axis}\\PY{o}{=}\\PY{l+m+mi}{1}\\PY{p}{,}\\PY{n}{inplace}\\PY{o}{=}\\PY{k+kc}{True}\\PY{p}{)}\n",
       "    \\PY{n}{predictions}\\PY{p}{[}\\PY{l+s+s1}{\\PYZsq{}}\\PY{l+s+s1}{Churn\\PYZus{}prediction}\\PY{l+s+s1}{\\PYZsq{}}\\PY{p}{]}\\PY{o}{.}\\PY{n}{replace}\\PY{p}{(}\\PY{p}{\\PYZob{}}\\PY{l+s+s1}{\\PYZsq{}}\\PY{l+s+s1}{Yes}\\PY{l+s+s1}{\\PYZsq{}}\\PY{p}{:}\\PY{l+m+mi}{1}\\PY{p}{,}\\PY{l+s+s1}{\\PYZsq{}}\\PY{l+s+s1}{No}\\PY{l+s+s1}{\\PYZsq{}}\\PY{p}{:}\\PY{l+m+mi}{0}\\PY{p}{\\PYZcb{}}\\PY{p}{,}\\PY{n}{inplace}\\PY{o}{=}\\PY{k+kc}{True}\\PY{p}{)}\n",
       "    \n",
       "    \n",
       "    \\PY{k}{return} \\PY{n}{predictions}\\PY{p}{[}\\PY{l+s+s1}{\\PYZsq{}}\\PY{l+s+s1}{Churn\\PYZus{}prediction}\\PY{l+s+s1}{\\PYZsq{}}\\PY{p}{]}\n",
       "\n",
       "\\PY{k}{if} \\PY{n+nv+vm}{\\PYZus{}\\PYZus{}name\\PYZus{}\\PYZus{}} \\PY{o}{==} \\PY{l+s+s2}{\\PYZdq{}}\\PY{l+s+s2}{\\PYZus{}\\PYZus{}main\\PYZus{}\\PYZus{}}\\PY{l+s+s2}{\\PYZdq{}}\\PY{p}{:}\n",
       "    \\PY{n}{df} \\PY{o}{=} \\PY{n}{load\\PYZus{}data}\\PY{p}{(}\\PY{l+s+s2}{\\PYZdq{}}\\PY{l+s+s2}{/Users/abhilashreddy/Desktop/weeek 5/new\\PYZus{}churn\\PYZus{}data.csv}\\PY{l+s+s2}{\\PYZdq{}}\\PY{p}{)}\n",
       "    \\PY{n}{predictions} \\PY{o}{=} \\PY{n}{make\\PYZus{}predictions}\\PY{p}{(}\\PY{n}{df}\\PY{p}{)}\n",
       "    \\PY{n+nb}{print}\\PY{p}{(}\\PY{l+s+s1}{\\PYZsq{}}\\PY{l+s+s1}{predictions:}\\PY{l+s+s1}{\\PYZsq{}}\\PY{p}{)}\n",
       "    \\PY{n+nb}{print}\\PY{p}{(}\\PY{n}{predictions}\\PY{p}{)}\n",
       "\\end{Verbatim}\n"
      ],
      "text/plain": [
       "import pandas as pd\n",
       "from pycaret.classification import predict_model, load_model\n",
       "\n",
       "def load_data(filepath):\n",
       "    df = pd.read_csv(filepath)\n",
       "    return df\n",
       "\n",
       "\n",
       "def make_predictions(df):\n",
       "    model = load_model('lr')\n",
       "   \n",
       "    predictions = predict_model(model, data=df)\n",
       "    \n",
       "    predictions.rename({'prediction_label':'Churn_prediction'},axis=1,inplace=True)\n",
       "    predictions['Churn_prediction'].replace({'Yes':1,'No':0},inplace=True)\n",
       "    \n",
       "    \n",
       "    return predictions['Churn_prediction']\n",
       "\n",
       "if __name__ == \"__main__\":\n",
       "    df = load_data(\"/Users/abhilashreddy/Desktop/weeek 5/new_churn_data.csv\")\n",
       "    predictions = make_predictions(df)\n",
       "    print('predictions:')\n",
       "    print(predictions)"
      ]
     },
     "execution_count": 69,
     "metadata": {},
     "output_type": "execute_result"
    }
   ],
   "source": [
    "from IPython.display import Code\n",
    "\n",
    "Code( \"/Users/abhilashreddy/Desktop/weeek 5/prediction_churn_data.py\"\n",
    ")"
   ]
  },
  {
   "cell_type": "markdown",
   "id": "42aa7348",
   "metadata": {},
   "source": [
    "We can test out running the file with the Jupyter \"magic\" command %run:\n",
    "\n"
   ]
  },
  {
   "cell_type": "code",
   "execution_count": 70,
   "id": "8eb992bd",
   "metadata": {},
   "outputs": [
    {
     "name": "stdout",
     "output_type": "stream",
     "text": [
      "Transformation Pipeline and Model Successfully Loaded\n"
     ]
    },
    {
     "data": {
      "text/html": [],
      "text/plain": [
       "<IPython.core.display.HTML object>"
      ]
     },
     "metadata": {},
     "output_type": "display_data"
    },
    {
     "name": "stdout",
     "output_type": "stream",
     "text": [
      "predictions:\n",
      "0    1\n",
      "1    1\n",
      "2    0\n",
      "3    1\n",
      "4    1\n",
      "Name: Churn_prediction, dtype: int64\n"
     ]
    },
    {
     "data": {
      "text/plain": [
       "<Figure size 800x550 with 0 Axes>"
      ]
     },
     "metadata": {},
     "output_type": "display_data"
    }
   ],
   "source": [
    "%run \"/Users/abhilashreddy/Desktop/weeek 5/prediction_churn_data.py\""
   ]
  },
  {
   "cell_type": "markdown",
   "id": "48b35e13",
   "metadata": {},
   "source": [
    "After making modifications to the file while we are creating it, we can repeatedly run the line mentioned above. The actual results are 1, 1,0, 1, 1, indicating that our model is functional but not flawless. In the updated data, there is one false positive. It is a little random, though, because this new data was synthesized using previously collected data. "
   ]
  },
  {
   "cell_type": "markdown",
   "id": "8aff7ff9",
   "metadata": {},
   "source": [
    "#Summary"
   ]
  },
  {
   "cell_type": "markdown",
   "id": "69191688",
   "metadata": {},
   "source": [
    "The first stage involved loading data from the previous week and using an AutoML framework to effectively handle non-numeric input for machine learning. The selected target variable was \"Churn,\" and following AutoML analysis, the most accurate model found was \"Logistic Regression\" with an accuracy rate of 79%.\n",
    "\n",
    "Using the plot_model function and the input plot='auc,' an Area Under the Curve (AUC) plot was created to evaluate the performance of the model. The capacity of the model to discriminate between positive and negative classes across a range of threshold values was demonstrated graphically. Furthermore, the command plot_model(best_model, plot='pr') was used to create a Precision-Recall (PR) curve that illustrates the trade-off between recall and precision for various threshold settings.\n",
    "\n",
    "To prevent mistakes, a 2D array was generated using indexing {[-2:-1]} even though the last row was selected. Then, the pickle library was used to save the Logistic Regression model in the 'wb' (write binary) mode. The model was loaded in 'rb' (read binary) mode in order to make predictions using the Python code found in the 'new_churn_data' module.\n",
    "\n",
    "The sequence [1, 1, 0, 1, 1] was the product of the prediction made using the loaded model on fresh data ('new_churn_data'). The data processing, model selection, assessment, and implementation of the Logistic Regression model for churn prediction based on the given information are all included in this formal overview."
   ]
  }
 ],
 "metadata": {
  "kernelspec": {
   "display_name": "Python 3 (ipykernel)",
   "language": "python",
   "name": "python3"
  },
  "language_info": {
   "codemirror_mode": {
    "name": "ipython",
    "version": 3
   },
   "file_extension": ".py",
   "mimetype": "text/x-python",
   "name": "python",
   "nbconvert_exporter": "python",
   "pygments_lexer": "ipython3",
   "version": "3.11.5"
  }
 },
 "nbformat": 4,
 "nbformat_minor": 5
}
